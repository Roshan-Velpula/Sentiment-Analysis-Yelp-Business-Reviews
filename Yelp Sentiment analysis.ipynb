{
 "cells": [
  {
   "cell_type": "markdown",
   "id": "a5567e33",
   "metadata": {},
   "source": [
    "# Sentiment Analysis for Business Reviews in Yelp"
   ]
  },
  {
   "cell_type": "code",
   "execution_count": 1,
   "id": "cce16aba",
   "metadata": {},
   "outputs": [],
   "source": [
    "import requests"
   ]
  },
  {
   "cell_type": "code",
   "execution_count": 2,
   "id": "93fcb720",
   "metadata": {},
   "outputs": [],
   "source": [
    "from bs4 import BeautifulSoup"
   ]
  },
  {
   "cell_type": "markdown",
   "id": "843d8c94",
   "metadata": {},
   "source": [
    "### Web scraping using Beautifulsoup - Yelp.com"
   ]
  },
  {
   "cell_type": "code",
   "execution_count": 3,
   "id": "ea8a0323",
   "metadata": {},
   "outputs": [],
   "source": [
    "r = requests.get('https://www.yelp.com/biz/l-as-du-fallafel-paris?osq=Restaurants')"
   ]
  },
  {
   "cell_type": "code",
   "execution_count": 4,
   "id": "7de758c8",
   "metadata": {},
   "outputs": [
    {
     "data": {
      "text/plain": [
       "200"
      ]
     },
     "execution_count": 4,
     "metadata": {},
     "output_type": "execute_result"
    }
   ],
   "source": [
    "r.status_code"
   ]
  },
  {
   "cell_type": "code",
   "execution_count": 5,
   "id": "79ed54b8",
   "metadata": {},
   "outputs": [],
   "source": [
    "soup = BeautifulSoup(r.text, 'html.parser')"
   ]
  },
  {
   "cell_type": "code",
   "execution_count": 6,
   "id": "f27616d4",
   "metadata": {},
   "outputs": [],
   "source": [
    "divs = soup.findAll(lang=\"en\", class_= \"raw__09f24__T4Ezm\")"
   ]
  },
  {
   "cell_type": "code",
   "execution_count": 7,
   "id": "5eb34436",
   "metadata": {},
   "outputs": [],
   "source": [
    "reviews = []\n",
    "for div in divs:\n",
    "    reviews.append(div.get_text())"
   ]
  },
  {
   "cell_type": "code",
   "execution_count": 8,
   "id": "404399ea",
   "metadata": {},
   "outputs": [],
   "source": [
    "current_page = soup.find('div', class_='pagination-link--current__09f24__vBjKh')"
   ]
  },
  {
   "cell_type": "code",
   "execution_count": null,
   "id": "e9267212",
   "metadata": {},
   "outputs": [],
   "source": [
    "# Scraping all the review pages using the while loop below. Next page url always has a pattern you need to observe"
   ]
  },
  {
   "cell_type": "code",
   "execution_count": 9,
   "id": "7be2f61d",
   "metadata": {
    "collapsed": true
   },
   "outputs": [
    {
     "name": "stderr",
     "output_type": "stream",
     "text": [
      "<>:9: SyntaxWarning: \"is not\" with a literal. Did you mean \"!=\"?\n",
      "<>:9: SyntaxWarning: \"is not\" with a literal. Did you mean \"!=\"?\n",
      "C:\\Users\\kingr\\AppData\\Local\\Temp\\ipykernel_6188\\2417445527.py:9: SyntaxWarning: \"is not\" with a literal. Did you mean \"!=\"?\n",
      "  if response.status_code is not 200:\n"
     ]
    },
    {
     "name": "stdout",
     "output_type": "stream",
     "text": [
      "1\n",
      "2\n",
      "3\n",
      "4\n",
      "5\n",
      "6\n",
      "7\n",
      "8\n",
      "9\n",
      "10\n",
      "11\n",
      "12\n",
      "13\n",
      "14\n",
      "15\n",
      "16\n",
      "17\n",
      "18\n",
      "19\n",
      "20\n",
      "21\n",
      "22\n",
      "23\n",
      "24\n",
      "25\n",
      "26\n",
      "27\n",
      "28\n",
      "29\n",
      "30\n",
      "31\n",
      "32\n",
      "33\n",
      "34\n",
      "35\n",
      "36\n",
      "37\n",
      "38\n",
      "39\n",
      "40\n",
      "41\n",
      "42\n",
      "43\n",
      "44\n",
      "45\n",
      "46\n",
      "47\n",
      "48\n",
      "49\n",
      "50\n",
      "51\n",
      "52\n",
      "53\n",
      "54\n",
      "55\n",
      "56\n",
      "57\n",
      "58\n",
      "59\n",
      "60\n",
      "61\n",
      "62\n",
      "63\n",
      "64\n",
      "65\n",
      "66\n",
      "67\n",
      "68\n",
      "69\n",
      "70\n",
      "71\n",
      "72\n",
      "73\n",
      "74\n",
      "75\n",
      "76\n",
      "77\n",
      "78\n",
      "79\n",
      "80\n",
      "81\n",
      "82\n",
      "83\n",
      "84\n",
      "85\n",
      "86\n",
      "87\n",
      "88\n",
      "89\n",
      "90\n",
      "91\n",
      "92\n",
      "93\n",
      "94\n",
      "95\n",
      "96\n",
      "97\n",
      "98\n",
      "99\n",
      "100\n",
      "101\n",
      "102\n",
      "103\n",
      "104\n",
      "105\n",
      "106\n",
      "107\n",
      "108\n",
      "109\n",
      "110\n",
      "111\n",
      "112\n",
      "113\n",
      "114\n",
      "115\n",
      "116\n",
      "117\n",
      "118\n",
      "119\n",
      "120\n",
      "121\n",
      "122\n",
      "123\n",
      "124\n",
      "125\n",
      "126\n",
      "127\n",
      "128\n",
      "129\n",
      "130\n",
      "131\n",
      "132\n",
      "133\n",
      "134\n",
      "135\n",
      "136\n",
      "137\n",
      "138\n",
      "139\n",
      "140\n",
      "141\n",
      "142\n",
      "143\n",
      "144\n",
      "145\n",
      "146\n",
      "147\n",
      "147\n",
      "147\n",
      "147\n",
      "147\n",
      "147\n",
      "147\n",
      "147\n",
      "147\n",
      "147\n",
      "147\n",
      "147\n",
      "147\n",
      "147\n",
      "147\n",
      "147\n",
      "147\n",
      "147\n",
      "147\n",
      "147\n",
      "147\n",
      "147\n",
      "147\n",
      "147\n",
      "147\n",
      "147\n",
      "147\n",
      "147\n"
     ]
    }
   ],
   "source": [
    "while current_page:\n",
    "    # get the current page number\n",
    "    current_page_number = int(current_page.get_text())\n",
    "    #print(current_page_number) #this line to verify if all the existing review pages are scraped\n",
    "    \n",
    "    # construct the url for the next page\n",
    "    url = f'https://www.yelp.com/biz/l-as-du-fallafel-paris?osq=Restaurants&start={(current_page_number)*10}'\n",
    "    response = requests.get(url)\n",
    "    if response.status_code is not 200:\n",
    "        break\n",
    "    html_content = response.text\n",
    "    soup = BeautifulSoup(html_content, 'html.parser')\n",
    "    review_elements = soup.findAll(lang=\"en\", class_= \"raw__09f24__T4Ezm\")\n",
    "    for element in review_elements:\n",
    "        review_text = element.get_text()\n",
    "        reviews.append(review_text)\n",
    "        current_page = soup.find('div', class_='pagination-link--current__09f24__vBjKh')\n",
    "\n",
    "        \n",
    "    "
   ]
  },
  {
   "cell_type": "markdown",
   "id": "76c0a3a2",
   "metadata": {},
   "source": [
    "# Analysing Text Data"
   ]
  },
  {
   "cell_type": "code",
   "execution_count": 12,
   "id": "ed3943bf",
   "metadata": {},
   "outputs": [],
   "source": [
    "import pandas as pd"
   ]
  },
  {
   "cell_type": "code",
   "execution_count": 22,
   "id": "61277b44",
   "metadata": {},
   "outputs": [],
   "source": [
    "import numpy as np"
   ]
  },
  {
   "cell_type": "code",
   "execution_count": 23,
   "id": "631c7455",
   "metadata": {},
   "outputs": [],
   "source": [
    "df = pd.DataFrame(np.array(reviews), columns=['reviews'])"
   ]
  },
  {
   "cell_type": "code",
   "execution_count": 24,
   "id": "e11ba9f3",
   "metadata": {},
   "outputs": [
    {
     "data": {
      "text/html": [
       "<div>\n",
       "<style scoped>\n",
       "    .dataframe tbody tr th:only-of-type {\n",
       "        vertical-align: middle;\n",
       "    }\n",
       "\n",
       "    .dataframe tbody tr th {\n",
       "        vertical-align: top;\n",
       "    }\n",
       "\n",
       "    .dataframe thead th {\n",
       "        text-align: right;\n",
       "    }\n",
       "</style>\n",
       "<table border=\"1\" class=\"dataframe\">\n",
       "  <thead>\n",
       "    <tr style=\"text-align: right;\">\n",
       "      <th></th>\n",
       "      <th>reviews</th>\n",
       "    </tr>\n",
       "  </thead>\n",
       "  <tbody>\n",
       "    <tr>\n",
       "      <th>0</th>\n",
       "      <td>L'As du Falafel is a legend, and deservedly. T...</td>\n",
       "    </tr>\n",
       "    <tr>\n",
       "      <th>1</th>\n",
       "      <td>L'as du Falafel is located right by our apartm...</td>\n",
       "    </tr>\n",
       "    <tr>\n",
       "      <th>2</th>\n",
       "      <td>You will always find a long line leading up to...</td>\n",
       "    </tr>\n",
       "    <tr>\n",
       "      <th>3</th>\n",
       "      <td>Had to try what the hype was all about. Two li...</td>\n",
       "    </tr>\n",
       "    <tr>\n",
       "      <th>4</th>\n",
       "      <td>Ate fallafel on a No Diet Club food tour, and ...</td>\n",
       "    </tr>\n",
       "  </tbody>\n",
       "</table>\n",
       "</div>"
      ],
      "text/plain": [
       "                                             reviews\n",
       "0  L'As du Falafel is a legend, and deservedly. T...\n",
       "1  L'as du Falafel is located right by our apartm...\n",
       "2  You will always find a long line leading up to...\n",
       "3  Had to try what the hype was all about. Two li...\n",
       "4  Ate fallafel on a No Diet Club food tour, and ..."
      ]
     },
     "execution_count": 24,
     "metadata": {},
     "output_type": "execute_result"
    }
   ],
   "source": [
    "df.head()"
   ]
  },
  {
   "cell_type": "code",
   "execution_count": 29,
   "id": "56abfb86",
   "metadata": {},
   "outputs": [],
   "source": [
    "df['review_length'] = df['reviews'].apply(lambda x: len(x.split()))"
   ]
  },
  {
   "cell_type": "code",
   "execution_count": 33,
   "id": "0399f886",
   "metadata": {},
   "outputs": [],
   "source": [
    "def avg_words(x):\n",
    "    words = x.split()\n",
    "    return sum(len(word) for word in words) / len(words)"
   ]
  },
  {
   "cell_type": "code",
   "execution_count": 35,
   "id": "bf03c5c2",
   "metadata": {},
   "outputs": [],
   "source": [
    "df['avg_word_length']= df['reviews'].apply(lambda x: avg_words(x))"
   ]
  },
  {
   "cell_type": "code",
   "execution_count": 39,
   "id": "d8b997d9",
   "metadata": {},
   "outputs": [
    {
     "name": "stderr",
     "output_type": "stream",
     "text": [
      "[nltk_data] Downloading package stopwords to\n",
      "[nltk_data]     C:\\Users\\kingr\\AppData\\Roaming\\nltk_data...\n",
      "[nltk_data]   Unzipping corpora\\stopwords.zip.\n"
     ]
    },
    {
     "data": {
      "text/plain": [
       "True"
      ]
     },
     "execution_count": 39,
     "metadata": {},
     "output_type": "execute_result"
    }
   ],
   "source": [
    "import nltk\n",
    "nltk.download('stopwords')"
   ]
  },
  {
   "cell_type": "code",
   "execution_count": 40,
   "id": "af342a15",
   "metadata": {},
   "outputs": [],
   "source": [
    "from nltk.corpus import stopwords"
   ]
  },
  {
   "cell_type": "code",
   "execution_count": 41,
   "id": "276fdee7",
   "metadata": {},
   "outputs": [],
   "source": [
    "stop_words = stopwords.words('english')"
   ]
  },
  {
   "cell_type": "code",
   "execution_count": 49,
   "id": "e3e74ccf",
   "metadata": {},
   "outputs": [],
   "source": [
    "df['stop_word_count']= df['reviews'].apply(lambda x: len([word for word in x.split() if word.lower() in stop_words]))"
   ]
  },
  {
   "cell_type": "code",
   "execution_count": 51,
   "id": "7953d159",
   "metadata": {},
   "outputs": [],
   "source": [
    "df['stop_word_rate'] = df['stop_word_count'] / df['review_length']"
   ]
  },
  {
   "cell_type": "code",
   "execution_count": 53,
   "id": "461ea79b",
   "metadata": {},
   "outputs": [
    {
     "data": {
      "text/html": [
       "<div>\n",
       "<style scoped>\n",
       "    .dataframe tbody tr th:only-of-type {\n",
       "        vertical-align: middle;\n",
       "    }\n",
       "\n",
       "    .dataframe tbody tr th {\n",
       "        vertical-align: top;\n",
       "    }\n",
       "\n",
       "    .dataframe thead th {\n",
       "        text-align: right;\n",
       "    }\n",
       "</style>\n",
       "<table border=\"1\" class=\"dataframe\">\n",
       "  <thead>\n",
       "    <tr style=\"text-align: right;\">\n",
       "      <th></th>\n",
       "      <th>reviews</th>\n",
       "      <th>review_length</th>\n",
       "      <th>avg_word_length</th>\n",
       "      <th>stop_words</th>\n",
       "      <th>stop_word_count</th>\n",
       "      <th>stop_word_rate</th>\n",
       "    </tr>\n",
       "  </thead>\n",
       "  <tbody>\n",
       "    <tr>\n",
       "      <th>1089</th>\n",
       "      <td>good classic fallafeli recommend</td>\n",
       "      <td>4</td>\n",
       "      <td>7.250000</td>\n",
       "      <td>good classic fallafeli recommend</td>\n",
       "      <td>0</td>\n",
       "      <td>0.000000</td>\n",
       "    </tr>\n",
       "    <tr>\n",
       "      <th>1080</th>\n",
       "      <td>Best South African wine online</td>\n",
       "      <td>5</td>\n",
       "      <td>5.200000</td>\n",
       "      <td>Best South African wine online</td>\n",
       "      <td>0</td>\n",
       "      <td>0.000000</td>\n",
       "    </tr>\n",
       "    <tr>\n",
       "      <th>1321</th>\n",
       "      <td>Pas mal mais réputation bien exagérée (en plus...</td>\n",
       "      <td>42</td>\n",
       "      <td>5.619048</td>\n",
       "      <td>Pas mal mais réputation bien exagérée (en plus...</td>\n",
       "      <td>1</td>\n",
       "      <td>0.023810</td>\n",
       "    </tr>\n",
       "    <tr>\n",
       "      <th>819</th>\n",
       "      <td>C'est l'as du falafel sûrement mais le 2 de pi...</td>\n",
       "      <td>195</td>\n",
       "      <td>4.676923</td>\n",
       "      <td>C'est l'as du falafel sûrement mais le 2 de pi...</td>\n",
       "      <td>7</td>\n",
       "      <td>0.035897</td>\n",
       "    </tr>\n",
       "    <tr>\n",
       "      <th>657</th>\n",
       "      <td>Great Fallafel, quick service. Definitely wort...</td>\n",
       "      <td>8</td>\n",
       "      <td>6.125000</td>\n",
       "      <td>Great Fallafel, quick service. Definitely wort...</td>\n",
       "      <td>1</td>\n",
       "      <td>0.125000</td>\n",
       "    </tr>\n",
       "    <tr>\n",
       "      <th>...</th>\n",
       "      <td>...</td>\n",
       "      <td>...</td>\n",
       "      <td>...</td>\n",
       "      <td>...</td>\n",
       "      <td>...</td>\n",
       "      <td>...</td>\n",
       "    </tr>\n",
       "    <tr>\n",
       "      <th>1082</th>\n",
       "      <td>I have had much better falafels than at this p...</td>\n",
       "      <td>34</td>\n",
       "      <td>3.911765</td>\n",
       "      <td>much better falafels place told best. course, ...</td>\n",
       "      <td>21</td>\n",
       "      <td>0.617647</td>\n",
       "    </tr>\n",
       "    <tr>\n",
       "      <th>1021</th>\n",
       "      <td>For me is the best falafel in Paris! And is in...</td>\n",
       "      <td>27</td>\n",
       "      <td>3.074074</td>\n",
       "      <td>best falafel Paris! nice area, go around walk ...</td>\n",
       "      <td>17</td>\n",
       "      <td>0.629630</td>\n",
       "    </tr>\n",
       "    <tr>\n",
       "      <th>520</th>\n",
       "      <td>This is the best fallafel have ever had and I ...</td>\n",
       "      <td>22</td>\n",
       "      <td>3.727273</td>\n",
       "      <td>best fallafel ever Israel. favor eat here. :)</td>\n",
       "      <td>14</td>\n",
       "      <td>0.636364</td>\n",
       "    </tr>\n",
       "    <tr>\n",
       "      <th>1249</th>\n",
       "      <td>Always have to go here when we visit Paris.  M...</td>\n",
       "      <td>28</td>\n",
       "      <td>3.750000</td>\n",
       "      <td>Always go visit Paris. wife loves see complain...</td>\n",
       "      <td>18</td>\n",
       "      <td>0.642857</td>\n",
       "    </tr>\n",
       "    <tr>\n",
       "      <th>619</th>\n",
       "      <td>Believe the hype.There's nothing more I can sa...</td>\n",
       "      <td>26</td>\n",
       "      <td>4.423077</td>\n",
       "      <td>Believe hype.There's nothing say gem said. bes...</td>\n",
       "      <td>17</td>\n",
       "      <td>0.653846</td>\n",
       "    </tr>\n",
       "  </tbody>\n",
       "</table>\n",
       "<p>1474 rows × 6 columns</p>\n",
       "</div>"
      ],
      "text/plain": [
       "                                                reviews  review_length  \\\n",
       "1089                   good classic fallafeli recommend              4   \n",
       "1080                     Best South African wine online              5   \n",
       "1321  Pas mal mais réputation bien exagérée (en plus...             42   \n",
       "819   C'est l'as du falafel sûrement mais le 2 de pi...            195   \n",
       "657   Great Fallafel, quick service. Definitely wort...              8   \n",
       "...                                                 ...            ...   \n",
       "1082  I have had much better falafels than at this p...             34   \n",
       "1021  For me is the best falafel in Paris! And is in...             27   \n",
       "520   This is the best fallafel have ever had and I ...             22   \n",
       "1249  Always have to go here when we visit Paris.  M...             28   \n",
       "619   Believe the hype.There's nothing more I can sa...             26   \n",
       "\n",
       "      avg_word_length                                         stop_words  \\\n",
       "1089         7.250000                   good classic fallafeli recommend   \n",
       "1080         5.200000                     Best South African wine online   \n",
       "1321         5.619048  Pas mal mais réputation bien exagérée (en plus...   \n",
       "819          4.676923  C'est l'as du falafel sûrement mais le 2 de pi...   \n",
       "657          6.125000  Great Fallafel, quick service. Definitely wort...   \n",
       "...               ...                                                ...   \n",
       "1082         3.911765  much better falafels place told best. course, ...   \n",
       "1021         3.074074  best falafel Paris! nice area, go around walk ...   \n",
       "520          3.727273      best fallafel ever Israel. favor eat here. :)   \n",
       "1249         3.750000  Always go visit Paris. wife loves see complain...   \n",
       "619          4.423077  Believe hype.There's nothing say gem said. bes...   \n",
       "\n",
       "      stop_word_count  stop_word_rate  \n",
       "1089                0        0.000000  \n",
       "1080                0        0.000000  \n",
       "1321                1        0.023810  \n",
       "819                 7        0.035897  \n",
       "657                 1        0.125000  \n",
       "...               ...             ...  \n",
       "1082               21        0.617647  \n",
       "1021               17        0.629630  \n",
       "520                14        0.636364  \n",
       "1249               18        0.642857  \n",
       "619                17        0.653846  \n",
       "\n",
       "[1474 rows x 6 columns]"
      ]
     },
     "execution_count": 53,
     "metadata": {},
     "output_type": "execute_result"
    }
   ],
   "source": [
    "df.sort_values(by='stop_word_rate')"
   ]
  },
  {
   "cell_type": "code",
   "execution_count": 54,
   "id": "828cd103",
   "metadata": {},
   "outputs": [
    {
     "data": {
      "text/html": [
       "<div>\n",
       "<style scoped>\n",
       "    .dataframe tbody tr th:only-of-type {\n",
       "        vertical-align: middle;\n",
       "    }\n",
       "\n",
       "    .dataframe tbody tr th {\n",
       "        vertical-align: top;\n",
       "    }\n",
       "\n",
       "    .dataframe thead th {\n",
       "        text-align: right;\n",
       "    }\n",
       "</style>\n",
       "<table border=\"1\" class=\"dataframe\">\n",
       "  <thead>\n",
       "    <tr style=\"text-align: right;\">\n",
       "      <th></th>\n",
       "      <th>review_length</th>\n",
       "      <th>avg_word_length</th>\n",
       "      <th>stop_word_count</th>\n",
       "      <th>stop_word_rate</th>\n",
       "    </tr>\n",
       "  </thead>\n",
       "  <tbody>\n",
       "    <tr>\n",
       "      <th>count</th>\n",
       "      <td>1474.000000</td>\n",
       "      <td>1474.000000</td>\n",
       "      <td>1474.000000</td>\n",
       "      <td>1474.000000</td>\n",
       "    </tr>\n",
       "    <tr>\n",
       "      <th>mean</th>\n",
       "      <td>88.027137</td>\n",
       "      <td>4.418699</td>\n",
       "      <td>41.478290</td>\n",
       "      <td>0.460045</td>\n",
       "    </tr>\n",
       "    <tr>\n",
       "      <th>std</th>\n",
       "      <td>70.849433</td>\n",
       "      <td>0.371596</td>\n",
       "      <td>34.528772</td>\n",
       "      <td>0.070024</td>\n",
       "    </tr>\n",
       "    <tr>\n",
       "      <th>min</th>\n",
       "      <td>4.000000</td>\n",
       "      <td>3.074074</td>\n",
       "      <td>0.000000</td>\n",
       "      <td>0.000000</td>\n",
       "    </tr>\n",
       "    <tr>\n",
       "      <th>25%</th>\n",
       "      <td>39.000000</td>\n",
       "      <td>4.180259</td>\n",
       "      <td>17.000000</td>\n",
       "      <td>0.428571</td>\n",
       "    </tr>\n",
       "    <tr>\n",
       "      <th>50%</th>\n",
       "      <td>68.000000</td>\n",
       "      <td>4.381369</td>\n",
       "      <td>32.000000</td>\n",
       "      <td>0.469697</td>\n",
       "    </tr>\n",
       "    <tr>\n",
       "      <th>75%</th>\n",
       "      <td>115.750000</td>\n",
       "      <td>4.605182</td>\n",
       "      <td>54.000000</td>\n",
       "      <td>0.500000</td>\n",
       "    </tr>\n",
       "    <tr>\n",
       "      <th>max</th>\n",
       "      <td>671.000000</td>\n",
       "      <td>7.250000</td>\n",
       "      <td>313.000000</td>\n",
       "      <td>0.653846</td>\n",
       "    </tr>\n",
       "  </tbody>\n",
       "</table>\n",
       "</div>"
      ],
      "text/plain": [
       "       review_length  avg_word_length  stop_word_count  stop_word_rate\n",
       "count    1474.000000      1474.000000      1474.000000     1474.000000\n",
       "mean       88.027137         4.418699        41.478290        0.460045\n",
       "std        70.849433         0.371596        34.528772        0.070024\n",
       "min         4.000000         3.074074         0.000000        0.000000\n",
       "25%        39.000000         4.180259        17.000000        0.428571\n",
       "50%        68.000000         4.381369        32.000000        0.469697\n",
       "75%       115.750000         4.605182        54.000000        0.500000\n",
       "max       671.000000         7.250000       313.000000        0.653846"
      ]
     },
     "execution_count": 54,
     "metadata": {},
     "output_type": "execute_result"
    }
   ],
   "source": [
    "df.describe()"
   ]
  },
  {
   "cell_type": "markdown",
   "id": "56c43425",
   "metadata": {},
   "source": [
    "# Cleaning"
   ]
  },
  {
   "cell_type": "code",
   "execution_count": 58,
   "id": "d38633d3",
   "metadata": {},
   "outputs": [],
   "source": [
    "def remove_stopwords(x):\n",
    "    words = x.split()\n",
    "    filtered_words = [word for word in words if word.lower() not in stop_words]\n",
    "    return \" \".join(filtered_words)"
   ]
  },
  {
   "cell_type": "code",
   "execution_count": 59,
   "id": "e505320d",
   "metadata": {},
   "outputs": [],
   "source": [
    "df['stop_words'] = df['reviews'].apply(lambda x: remove_stopwords(x))  #Removed stop words from reviews"
   ]
  },
  {
   "cell_type": "code",
   "execution_count": 63,
   "id": "3fd2223a",
   "metadata": {},
   "outputs": [
    {
     "name": "stderr",
     "output_type": "stream",
     "text": [
      "C:\\Users\\kingr\\AppData\\Local\\Temp\\ipykernel_6188\\4128385803.py:1: FutureWarning: The default value of regex will change from True to False in a future version.\n",
      "  df['stop_words']= df['stop_words'].str.replace('[^\\w\\s]', '')\n"
     ]
    }
   ],
   "source": [
    "df['stop_words']= df['stop_words'].str.replace('[^\\w\\s]', '')  #Cleaning  punctuation"
   ]
  },
  {
   "cell_type": "code",
   "execution_count": 64,
   "id": "e8d5949d",
   "metadata": {},
   "outputs": [],
   "source": [
    "#Review Recurring words\n",
    "#Just manually removing the most recurring words that doesnt make sense to our analysis"
   ]
  },
  {
   "cell_type": "code",
   "execution_count": 79,
   "id": "a6fb97c6",
   "metadata": {},
   "outputs": [
    {
     "data": {
      "text/plain": [
       "falafel      1965\n",
       "place         871\n",
       "line          815\n",
       "paris         805\n",
       "good          706\n",
       "best          627\n",
       "food          579\n",
       "one           506\n",
       "get           495\n",
       "go            481\n",
       "sandwich      478\n",
       "fallafel      473\n",
       "sauce         468\n",
       "pita          452\n",
       "great         375\n",
       "delicious     369\n",
       "eat           365\n",
       "wait          361\n",
       "long          360\n",
       "ive           329\n",
       "like          327\n",
       "really        325\n",
       "worth         325\n",
       "ever          315\n",
       "time          309\n",
       "it            304\n",
       "got           284\n",
       "inside        273\n",
       "eggplant      267\n",
       "las           267\n",
       "dtype: int64"
      ]
     },
     "execution_count": 79,
     "metadata": {},
     "output_type": "execute_result"
    }
   ],
   "source": [
    "pd.Series(\" \".join(df['stop_words']).lower().split()).value_counts()[:30]"
   ]
  },
  {
   "cell_type": "code",
   "execution_count": 87,
   "id": "8defd92b",
   "metadata": {},
   "outputs": [],
   "source": [
    "recurring_words = ['falafel','place','line','paris', 'food','one','get','go','sandwich','fallafel','sauce','pita','eat','ive','it','inside','eggplant','las','falafels','shawarma','restaurant','also','would','du','got','back']"
   ]
  },
  {
   "cell_type": "code",
   "execution_count": 88,
   "id": "baa39815",
   "metadata": {},
   "outputs": [],
   "source": [
    "df['stop_words'] = df['stop_words'].apply(lambda x: x.lower())"
   ]
  },
  {
   "cell_type": "code",
   "execution_count": 89,
   "id": "ada533a9",
   "metadata": {},
   "outputs": [],
   "source": [
    "df['clean_reviews']= df['stop_words'].apply(lambda x: \" \".join(word for word in x.split() if word not in recurring_words))"
   ]
  },
  {
   "cell_type": "code",
   "execution_count": 90,
   "id": "66717b0e",
   "metadata": {},
   "outputs": [
    {
     "data": {
      "text/plain": [
       "good          706\n",
       "best          627\n",
       "great         375\n",
       "delicious     369\n",
       "wait          361\n",
       "long          360\n",
       "like          327\n",
       "worth         325\n",
       "really        325\n",
       "ever          315\n",
       "time          309\n",
       "order         260\n",
       "definitely    257\n",
       "amazing       245\n",
       "fresh         231\n",
       "take          227\n",
       "people        227\n",
       "service       223\n",
       "try           221\n",
       "well          213\n",
       "im            208\n",
       "spicy         206\n",
       "even          202\n",
       "street        198\n",
       "around        191\n",
       "fast          186\n",
       "much          181\n",
       "ordered       181\n",
       "hot           181\n",
       "outside       179\n",
       "dtype: int64"
      ]
     },
     "execution_count": 90,
     "metadata": {},
     "output_type": "execute_result"
    }
   ],
   "source": [
    "pd.Series(\" \".join(df['clean_reviews']).lower().split()).value_counts()[:30]"
   ]
  },
  {
   "cell_type": "code",
   "execution_count": 92,
   "id": "2cd342ae",
   "metadata": {},
   "outputs": [
    {
     "data": {
      "text/html": [
       "<div>\n",
       "<style scoped>\n",
       "    .dataframe tbody tr th:only-of-type {\n",
       "        vertical-align: middle;\n",
       "    }\n",
       "\n",
       "    .dataframe tbody tr th {\n",
       "        vertical-align: top;\n",
       "    }\n",
       "\n",
       "    .dataframe thead th {\n",
       "        text-align: right;\n",
       "    }\n",
       "</style>\n",
       "<table border=\"1\" class=\"dataframe\">\n",
       "  <thead>\n",
       "    <tr style=\"text-align: right;\">\n",
       "      <th></th>\n",
       "      <th>reviews</th>\n",
       "      <th>review_length</th>\n",
       "      <th>avg_word_length</th>\n",
       "      <th>stop_word_count</th>\n",
       "      <th>stop_word_rate</th>\n",
       "      <th>stop_words</th>\n",
       "      <th>clean_reviews</th>\n",
       "    </tr>\n",
       "  </thead>\n",
       "  <tbody>\n",
       "    <tr>\n",
       "      <th>0</th>\n",
       "      <td>L'As du Falafel is a legend, and deservedly. T...</td>\n",
       "      <td>156</td>\n",
       "      <td>4.185897</td>\n",
       "      <td>76</td>\n",
       "      <td>0.487179</td>\n",
       "      <td>las du falafel legend deservedly reach it weav...</td>\n",
       "      <td>legend deservedly reach weave way many imitato...</td>\n",
       "    </tr>\n",
       "    <tr>\n",
       "      <th>1</th>\n",
       "      <td>L'as du Falafel is located right by our apartm...</td>\n",
       "      <td>258</td>\n",
       "      <td>4.073643</td>\n",
       "      <td>136</td>\n",
       "      <td>0.527132</td>\n",
       "      <td>las du falafel located right apartment decided...</td>\n",
       "      <td>located right apartment decided give try two l...</td>\n",
       "    </tr>\n",
       "    <tr>\n",
       "      <th>2</th>\n",
       "      <td>You will always find a long line leading up to...</td>\n",
       "      <td>58</td>\n",
       "      <td>4.362069</td>\n",
       "      <td>29</td>\n",
       "      <td>0.500000</td>\n",
       "      <td>always find long line leading familyowned midd...</td>\n",
       "      <td>always find long leading familyowned middle ea...</td>\n",
       "    </tr>\n",
       "    <tr>\n",
       "      <th>3</th>\n",
       "      <td>Had to try what the hype was all about. Two li...</td>\n",
       "      <td>59</td>\n",
       "      <td>4.152542</td>\n",
       "      <td>30</td>\n",
       "      <td>0.508475</td>\n",
       "      <td>try hype about two lines one dinein one take o...</td>\n",
       "      <td>try hype about two lines dinein take out equal...</td>\n",
       "    </tr>\n",
       "    <tr>\n",
       "      <th>4</th>\n",
       "      <td>Ate fallafel on a No Diet Club food tour, and ...</td>\n",
       "      <td>119</td>\n",
       "      <td>4.168067</td>\n",
       "      <td>57</td>\n",
       "      <td>0.478992</td>\n",
       "      <td>ate fallafel diet club food tour good went bac...</td>\n",
       "      <td>ate diet club tour good went tour maybe two th...</td>\n",
       "    </tr>\n",
       "  </tbody>\n",
       "</table>\n",
       "</div>"
      ],
      "text/plain": [
       "                                             reviews  review_length  \\\n",
       "0  L'As du Falafel is a legend, and deservedly. T...            156   \n",
       "1  L'as du Falafel is located right by our apartm...            258   \n",
       "2  You will always find a long line leading up to...             58   \n",
       "3  Had to try what the hype was all about. Two li...             59   \n",
       "4  Ate fallafel on a No Diet Club food tour, and ...            119   \n",
       "\n",
       "   avg_word_length  stop_word_count  stop_word_rate  \\\n",
       "0         4.185897               76        0.487179   \n",
       "1         4.073643              136        0.527132   \n",
       "2         4.362069               29        0.500000   \n",
       "3         4.152542               30        0.508475   \n",
       "4         4.168067               57        0.478992   \n",
       "\n",
       "                                          stop_words  \\\n",
       "0  las du falafel legend deservedly reach it weav...   \n",
       "1  las du falafel located right apartment decided...   \n",
       "2  always find long line leading familyowned midd...   \n",
       "3  try hype about two lines one dinein one take o...   \n",
       "4  ate fallafel diet club food tour good went bac...   \n",
       "\n",
       "                                       clean_reviews  \n",
       "0  legend deservedly reach weave way many imitato...  \n",
       "1  located right apartment decided give try two l...  \n",
       "2  always find long leading familyowned middle ea...  \n",
       "3  try hype about two lines dinein take out equal...  \n",
       "4  ate diet club tour good went tour maybe two th...  "
      ]
     },
     "execution_count": 92,
     "metadata": {},
     "output_type": "execute_result"
    }
   ],
   "source": [
    "df.head()"
   ]
  },
  {
   "cell_type": "markdown",
   "id": "3f90281b",
   "metadata": {},
   "source": [
    "# Lemmatizing"
   ]
  },
  {
   "cell_type": "code",
   "execution_count": 93,
   "id": "80fc95e0",
   "metadata": {},
   "outputs": [
    {
     "name": "stdout",
     "output_type": "stream",
     "text": [
      "Collecting textblob\n",
      "  Downloading textblob-0.17.1-py2.py3-none-any.whl (636 kB)\n",
      "Requirement already satisfied: nltk>=3.1 in c:\\users\\kingr\\anaconda3\\lib\\site-packages (from textblob) (3.7)\n",
      "Requirement already satisfied: tqdm in c:\\users\\kingr\\anaconda3\\lib\\site-packages (from nltk>=3.1->textblob) (4.64.0)\n",
      "Requirement already satisfied: regex>=2021.8.3 in c:\\users\\kingr\\anaconda3\\lib\\site-packages (from nltk>=3.1->textblob) (2022.3.15)\n",
      "Requirement already satisfied: joblib in c:\\users\\kingr\\anaconda3\\lib\\site-packages (from nltk>=3.1->textblob) (1.1.0)\n",
      "Requirement already satisfied: click in c:\\users\\kingr\\anaconda3\\lib\\site-packages (from nltk>=3.1->textblob) (8.0.4)\n",
      "Requirement already satisfied: colorama in c:\\users\\kingr\\anaconda3\\lib\\site-packages (from click->nltk>=3.1->textblob) (0.4.4)\n",
      "Installing collected packages: textblob\n",
      "Successfully installed textblob-0.17.1\n"
     ]
    }
   ],
   "source": [
    "!pip install textblob"
   ]
  },
  {
   "cell_type": "code",
   "execution_count": 94,
   "id": "815ec839",
   "metadata": {},
   "outputs": [],
   "source": [
    "from textblob import Word"
   ]
  },
  {
   "cell_type": "code",
   "execution_count": 103,
   "id": "1fe455e6",
   "metadata": {},
   "outputs": [
    {
     "name": "stderr",
     "output_type": "stream",
     "text": [
      "[nltk_data] Downloading package punkt to\n",
      "[nltk_data]     C:\\Users\\kingr\\AppData\\Roaming\\nltk_data...\n",
      "[nltk_data]   Package punkt is already up-to-date!\n",
      "[nltk_data] Downloading package averaged_perceptron_tagger to\n",
      "[nltk_data]     C:\\Users\\kingr\\AppData\\Roaming\\nltk_data...\n",
      "[nltk_data]   Package averaged_perceptron_tagger is already up-to-\n",
      "[nltk_data]       date!\n",
      "[nltk_data] Downloading package wordnet to\n",
      "[nltk_data]     C:\\Users\\kingr\\AppData\\Roaming\\nltk_data...\n",
      "[nltk_data]   Package wordnet is already up-to-date!\n"
     ]
    },
    {
     "data": {
      "text/plain": [
       "True"
      ]
     },
     "execution_count": 103,
     "metadata": {},
     "output_type": "execute_result"
    }
   ],
   "source": [
    "import nltk\n",
    "nltk.download('punkt')\n",
    "nltk.download('averaged_perceptron_tagger')\n",
    "nltk.download('wordnet')"
   ]
  },
  {
   "cell_type": "code",
   "execution_count": 105,
   "id": "3d33e7d9",
   "metadata": {},
   "outputs": [
    {
     "name": "stderr",
     "output_type": "stream",
     "text": [
      "[nltk_data] Downloading package omw-1.4 to\n",
      "[nltk_data]     C:\\Users\\kingr\\AppData\\Roaming\\nltk_data...\n"
     ]
    },
    {
     "data": {
      "text/plain": [
       "True"
      ]
     },
     "execution_count": 105,
     "metadata": {},
     "output_type": "execute_result"
    }
   ],
   "source": [
    "import nltk\n",
    "nltk.download('omw-1.4')"
   ]
  },
  {
   "cell_type": "code",
   "execution_count": 106,
   "id": "66773e6a",
   "metadata": {},
   "outputs": [],
   "source": [
    "df['lemmatized']= df['clean_reviews'].apply(lambda x: \" \".join(Word(word).lemmatize() for word in x.split()))"
   ]
  },
  {
   "cell_type": "code",
   "execution_count": 107,
   "id": "ed4a628d",
   "metadata": {},
   "outputs": [
    {
     "data": {
      "text/html": [
       "<div>\n",
       "<style scoped>\n",
       "    .dataframe tbody tr th:only-of-type {\n",
       "        vertical-align: middle;\n",
       "    }\n",
       "\n",
       "    .dataframe tbody tr th {\n",
       "        vertical-align: top;\n",
       "    }\n",
       "\n",
       "    .dataframe thead th {\n",
       "        text-align: right;\n",
       "    }\n",
       "</style>\n",
       "<table border=\"1\" class=\"dataframe\">\n",
       "  <thead>\n",
       "    <tr style=\"text-align: right;\">\n",
       "      <th></th>\n",
       "      <th>reviews</th>\n",
       "      <th>review_length</th>\n",
       "      <th>avg_word_length</th>\n",
       "      <th>stop_word_count</th>\n",
       "      <th>stop_word_rate</th>\n",
       "      <th>stop_words</th>\n",
       "      <th>clean_reviews</th>\n",
       "      <th>lemmatized</th>\n",
       "    </tr>\n",
       "  </thead>\n",
       "  <tbody>\n",
       "    <tr>\n",
       "      <th>0</th>\n",
       "      <td>L'As du Falafel is a legend, and deservedly. T...</td>\n",
       "      <td>156</td>\n",
       "      <td>4.185897</td>\n",
       "      <td>76</td>\n",
       "      <td>0.487179</td>\n",
       "      <td>las du falafel legend deservedly reach it weav...</td>\n",
       "      <td>legend deservedly reach weave way many imitato...</td>\n",
       "      <td>legend deservedly reach weave way many imitato...</td>\n",
       "    </tr>\n",
       "    <tr>\n",
       "      <th>1</th>\n",
       "      <td>L'as du Falafel is located right by our apartm...</td>\n",
       "      <td>258</td>\n",
       "      <td>4.073643</td>\n",
       "      <td>136</td>\n",
       "      <td>0.527132</td>\n",
       "      <td>las du falafel located right apartment decided...</td>\n",
       "      <td>located right apartment decided give try two l...</td>\n",
       "      <td>located right apartment decided give try two l...</td>\n",
       "    </tr>\n",
       "    <tr>\n",
       "      <th>2</th>\n",
       "      <td>You will always find a long line leading up to...</td>\n",
       "      <td>58</td>\n",
       "      <td>4.362069</td>\n",
       "      <td>29</td>\n",
       "      <td>0.500000</td>\n",
       "      <td>always find long line leading familyowned midd...</td>\n",
       "      <td>always find long leading familyowned middle ea...</td>\n",
       "      <td>always find long leading familyowned middle ea...</td>\n",
       "    </tr>\n",
       "    <tr>\n",
       "      <th>3</th>\n",
       "      <td>Had to try what the hype was all about. Two li...</td>\n",
       "      <td>59</td>\n",
       "      <td>4.152542</td>\n",
       "      <td>30</td>\n",
       "      <td>0.508475</td>\n",
       "      <td>try hype about two lines one dinein one take o...</td>\n",
       "      <td>try hype about two lines dinein take out equal...</td>\n",
       "      <td>try hype about two line dinein take out equall...</td>\n",
       "    </tr>\n",
       "    <tr>\n",
       "      <th>4</th>\n",
       "      <td>Ate fallafel on a No Diet Club food tour, and ...</td>\n",
       "      <td>119</td>\n",
       "      <td>4.168067</td>\n",
       "      <td>57</td>\n",
       "      <td>0.478992</td>\n",
       "      <td>ate fallafel diet club food tour good went bac...</td>\n",
       "      <td>ate diet club tour good went tour maybe two th...</td>\n",
       "      <td>ate diet club tour good went tour maybe two th...</td>\n",
       "    </tr>\n",
       "  </tbody>\n",
       "</table>\n",
       "</div>"
      ],
      "text/plain": [
       "                                             reviews  review_length  \\\n",
       "0  L'As du Falafel is a legend, and deservedly. T...            156   \n",
       "1  L'as du Falafel is located right by our apartm...            258   \n",
       "2  You will always find a long line leading up to...             58   \n",
       "3  Had to try what the hype was all about. Two li...             59   \n",
       "4  Ate fallafel on a No Diet Club food tour, and ...            119   \n",
       "\n",
       "   avg_word_length  stop_word_count  stop_word_rate  \\\n",
       "0         4.185897               76        0.487179   \n",
       "1         4.073643              136        0.527132   \n",
       "2         4.362069               29        0.500000   \n",
       "3         4.152542               30        0.508475   \n",
       "4         4.168067               57        0.478992   \n",
       "\n",
       "                                          stop_words  \\\n",
       "0  las du falafel legend deservedly reach it weav...   \n",
       "1  las du falafel located right apartment decided...   \n",
       "2  always find long line leading familyowned midd...   \n",
       "3  try hype about two lines one dinein one take o...   \n",
       "4  ate fallafel diet club food tour good went bac...   \n",
       "\n",
       "                                       clean_reviews  \\\n",
       "0  legend deservedly reach weave way many imitato...   \n",
       "1  located right apartment decided give try two l...   \n",
       "2  always find long leading familyowned middle ea...   \n",
       "3  try hype about two lines dinein take out equal...   \n",
       "4  ate diet club tour good went tour maybe two th...   \n",
       "\n",
       "                                          lemmatized  \n",
       "0  legend deservedly reach weave way many imitato...  \n",
       "1  located right apartment decided give try two l...  \n",
       "2  always find long leading familyowned middle ea...  \n",
       "3  try hype about two line dinein take out equall...  \n",
       "4  ate diet club tour good went tour maybe two th...  "
      ]
     },
     "execution_count": 107,
     "metadata": {},
     "output_type": "execute_result"
    }
   ],
   "source": [
    "df.head()"
   ]
  },
  {
   "cell_type": "code",
   "execution_count": 108,
   "id": "7bd92afe",
   "metadata": {},
   "outputs": [],
   "source": [
    "df['clean_review_word_count'] = df['clean_reviews'].apply(lambda x: len(x.split()))"
   ]
  },
  {
   "cell_type": "code",
   "execution_count": 109,
   "id": "19aae544",
   "metadata": {},
   "outputs": [],
   "source": [
    "df['clean_review_word_rate'] = df['clean_review_word_count'] / df['review_length']"
   ]
  },
  {
   "cell_type": "code",
   "execution_count": 110,
   "id": "7a01563d",
   "metadata": {},
   "outputs": [
    {
     "data": {
      "text/html": [
       "<div>\n",
       "<style scoped>\n",
       "    .dataframe tbody tr th:only-of-type {\n",
       "        vertical-align: middle;\n",
       "    }\n",
       "\n",
       "    .dataframe tbody tr th {\n",
       "        vertical-align: top;\n",
       "    }\n",
       "\n",
       "    .dataframe thead th {\n",
       "        text-align: right;\n",
       "    }\n",
       "</style>\n",
       "<table border=\"1\" class=\"dataframe\">\n",
       "  <thead>\n",
       "    <tr style=\"text-align: right;\">\n",
       "      <th></th>\n",
       "      <th>reviews</th>\n",
       "      <th>review_length</th>\n",
       "      <th>avg_word_length</th>\n",
       "      <th>stop_word_count</th>\n",
       "      <th>stop_word_rate</th>\n",
       "      <th>stop_words</th>\n",
       "      <th>clean_reviews</th>\n",
       "      <th>lemmatized</th>\n",
       "      <th>clean_review_word_count</th>\n",
       "      <th>clean_review_word_rate</th>\n",
       "    </tr>\n",
       "  </thead>\n",
       "  <tbody>\n",
       "    <tr>\n",
       "      <th>0</th>\n",
       "      <td>L'As du Falafel is a legend, and deservedly. T...</td>\n",
       "      <td>156</td>\n",
       "      <td>4.185897</td>\n",
       "      <td>76</td>\n",
       "      <td>0.487179</td>\n",
       "      <td>las du falafel legend deservedly reach it weav...</td>\n",
       "      <td>legend deservedly reach weave way many imitato...</td>\n",
       "      <td>legend deservedly reach weave way many imitato...</td>\n",
       "      <td>61</td>\n",
       "      <td>0.391026</td>\n",
       "    </tr>\n",
       "    <tr>\n",
       "      <th>1</th>\n",
       "      <td>L'as du Falafel is located right by our apartm...</td>\n",
       "      <td>258</td>\n",
       "      <td>4.073643</td>\n",
       "      <td>136</td>\n",
       "      <td>0.527132</td>\n",
       "      <td>las du falafel located right apartment decided...</td>\n",
       "      <td>located right apartment decided give try two l...</td>\n",
       "      <td>located right apartment decided give try two l...</td>\n",
       "      <td>90</td>\n",
       "      <td>0.348837</td>\n",
       "    </tr>\n",
       "    <tr>\n",
       "      <th>2</th>\n",
       "      <td>You will always find a long line leading up to...</td>\n",
       "      <td>58</td>\n",
       "      <td>4.362069</td>\n",
       "      <td>29</td>\n",
       "      <td>0.500000</td>\n",
       "      <td>always find long line leading familyowned midd...</td>\n",
       "      <td>always find long leading familyowned middle ea...</td>\n",
       "      <td>always find long leading familyowned middle ea...</td>\n",
       "      <td>24</td>\n",
       "      <td>0.413793</td>\n",
       "    </tr>\n",
       "    <tr>\n",
       "      <th>3</th>\n",
       "      <td>Had to try what the hype was all about. Two li...</td>\n",
       "      <td>59</td>\n",
       "      <td>4.152542</td>\n",
       "      <td>30</td>\n",
       "      <td>0.508475</td>\n",
       "      <td>try hype about two lines one dinein one take o...</td>\n",
       "      <td>try hype about two lines dinein take out equal...</td>\n",
       "      <td>try hype about two line dinein take out equall...</td>\n",
       "      <td>24</td>\n",
       "      <td>0.406780</td>\n",
       "    </tr>\n",
       "    <tr>\n",
       "      <th>4</th>\n",
       "      <td>Ate fallafel on a No Diet Club food tour, and ...</td>\n",
       "      <td>119</td>\n",
       "      <td>4.168067</td>\n",
       "      <td>57</td>\n",
       "      <td>0.478992</td>\n",
       "      <td>ate fallafel diet club food tour good went bac...</td>\n",
       "      <td>ate diet club tour good went tour maybe two th...</td>\n",
       "      <td>ate diet club tour good went tour maybe two th...</td>\n",
       "      <td>48</td>\n",
       "      <td>0.403361</td>\n",
       "    </tr>\n",
       "  </tbody>\n",
       "</table>\n",
       "</div>"
      ],
      "text/plain": [
       "                                             reviews  review_length  \\\n",
       "0  L'As du Falafel is a legend, and deservedly. T...            156   \n",
       "1  L'as du Falafel is located right by our apartm...            258   \n",
       "2  You will always find a long line leading up to...             58   \n",
       "3  Had to try what the hype was all about. Two li...             59   \n",
       "4  Ate fallafel on a No Diet Club food tour, and ...            119   \n",
       "\n",
       "   avg_word_length  stop_word_count  stop_word_rate  \\\n",
       "0         4.185897               76        0.487179   \n",
       "1         4.073643              136        0.527132   \n",
       "2         4.362069               29        0.500000   \n",
       "3         4.152542               30        0.508475   \n",
       "4         4.168067               57        0.478992   \n",
       "\n",
       "                                          stop_words  \\\n",
       "0  las du falafel legend deservedly reach it weav...   \n",
       "1  las du falafel located right apartment decided...   \n",
       "2  always find long line leading familyowned midd...   \n",
       "3  try hype about two lines one dinein one take o...   \n",
       "4  ate fallafel diet club food tour good went bac...   \n",
       "\n",
       "                                       clean_reviews  \\\n",
       "0  legend deservedly reach weave way many imitato...   \n",
       "1  located right apartment decided give try two l...   \n",
       "2  always find long leading familyowned middle ea...   \n",
       "3  try hype about two lines dinein take out equal...   \n",
       "4  ate diet club tour good went tour maybe two th...   \n",
       "\n",
       "                                          lemmatized  clean_review_word_count  \\\n",
       "0  legend deservedly reach weave way many imitato...                       61   \n",
       "1  located right apartment decided give try two l...                       90   \n",
       "2  always find long leading familyowned middle ea...                       24   \n",
       "3  try hype about two line dinein take out equall...                       24   \n",
       "4  ate diet club tour good went tour maybe two th...                       48   \n",
       "\n",
       "   clean_review_word_rate  \n",
       "0                0.391026  \n",
       "1                0.348837  \n",
       "2                0.413793  \n",
       "3                0.406780  \n",
       "4                0.403361  "
      ]
     },
     "execution_count": 110,
     "metadata": {},
     "output_type": "execute_result"
    }
   ],
   "source": [
    "df.head()"
   ]
  },
  {
   "cell_type": "markdown",
   "id": "7021bb6e",
   "metadata": {},
   "source": [
    "# Sentiment Analysis"
   ]
  },
  {
   "cell_type": "code",
   "execution_count": 111,
   "id": "348abeb7",
   "metadata": {},
   "outputs": [],
   "source": [
    "from textblob import TextBlob"
   ]
  },
  {
   "cell_type": "markdown",
   "id": "31bca3ae",
   "metadata": {},
   "source": [
    "#### We get a polarity metric and subjectivity metrix. Polarity metric tells us how positive or negative a sentence is ( Ranging from -1 to +1 )"
   ]
  },
  {
   "cell_type": "code",
   "execution_count": 113,
   "id": "fe0a41af",
   "metadata": {},
   "outputs": [],
   "source": [
    "df['polarity'] = df['lemmatized'].apply( lambda x: TextBlob(x).sentiment[0])"
   ]
  },
  {
   "cell_type": "code",
   "execution_count": 114,
   "id": "2a969969",
   "metadata": {},
   "outputs": [],
   "source": [
    "df['subjectivity'] = df['lemmatized'].apply( lambda x: TextBlob(x).sentiment[1])"
   ]
  },
  {
   "cell_type": "code",
   "execution_count": 115,
   "id": "3b97f5c7",
   "metadata": {},
   "outputs": [
    {
     "data": {
      "text/html": [
       "<div>\n",
       "<style scoped>\n",
       "    .dataframe tbody tr th:only-of-type {\n",
       "        vertical-align: middle;\n",
       "    }\n",
       "\n",
       "    .dataframe tbody tr th {\n",
       "        vertical-align: top;\n",
       "    }\n",
       "\n",
       "    .dataframe thead th {\n",
       "        text-align: right;\n",
       "    }\n",
       "</style>\n",
       "<table border=\"1\" class=\"dataframe\">\n",
       "  <thead>\n",
       "    <tr style=\"text-align: right;\">\n",
       "      <th></th>\n",
       "      <th>review_length</th>\n",
       "      <th>avg_word_length</th>\n",
       "      <th>stop_word_count</th>\n",
       "      <th>stop_word_rate</th>\n",
       "      <th>clean_review_word_count</th>\n",
       "      <th>clean_review_word_rate</th>\n",
       "      <th>polarity</th>\n",
       "      <th>subjectivity</th>\n",
       "    </tr>\n",
       "  </thead>\n",
       "  <tbody>\n",
       "    <tr>\n",
       "      <th>count</th>\n",
       "      <td>1474.000000</td>\n",
       "      <td>1474.000000</td>\n",
       "      <td>1474.000000</td>\n",
       "      <td>1474.000000</td>\n",
       "      <td>1474.000000</td>\n",
       "      <td>1474.000000</td>\n",
       "      <td>1474.000000</td>\n",
       "      <td>1474.000000</td>\n",
       "    </tr>\n",
       "    <tr>\n",
       "      <th>mean</th>\n",
       "      <td>88.027137</td>\n",
       "      <td>4.418699</td>\n",
       "      <td>41.478290</td>\n",
       "      <td>0.460045</td>\n",
       "      <td>37.913161</td>\n",
       "      <td>0.434798</td>\n",
       "      <td>0.321668</td>\n",
       "      <td>0.549213</td>\n",
       "    </tr>\n",
       "    <tr>\n",
       "      <th>std</th>\n",
       "      <td>70.849433</td>\n",
       "      <td>0.371596</td>\n",
       "      <td>34.528772</td>\n",
       "      <td>0.070024</td>\n",
       "      <td>31.480539</td>\n",
       "      <td>0.074686</td>\n",
       "      <td>0.189904</td>\n",
       "      <td>0.135094</td>\n",
       "    </tr>\n",
       "    <tr>\n",
       "      <th>min</th>\n",
       "      <td>4.000000</td>\n",
       "      <td>3.074074</td>\n",
       "      <td>0.000000</td>\n",
       "      <td>0.000000</td>\n",
       "      <td>2.000000</td>\n",
       "      <td>0.200000</td>\n",
       "      <td>-0.335000</td>\n",
       "      <td>0.000000</td>\n",
       "    </tr>\n",
       "    <tr>\n",
       "      <th>25%</th>\n",
       "      <td>39.000000</td>\n",
       "      <td>4.180259</td>\n",
       "      <td>17.000000</td>\n",
       "      <td>0.428571</td>\n",
       "      <td>17.000000</td>\n",
       "      <td>0.391787</td>\n",
       "      <td>0.196646</td>\n",
       "      <td>0.470208</td>\n",
       "    </tr>\n",
       "    <tr>\n",
       "      <th>50%</th>\n",
       "      <td>68.000000</td>\n",
       "      <td>4.381369</td>\n",
       "      <td>32.000000</td>\n",
       "      <td>0.469697</td>\n",
       "      <td>28.500000</td>\n",
       "      <td>0.428571</td>\n",
       "      <td>0.315032</td>\n",
       "      <td>0.552685</td>\n",
       "    </tr>\n",
       "    <tr>\n",
       "      <th>75%</th>\n",
       "      <td>115.750000</td>\n",
       "      <td>4.605182</td>\n",
       "      <td>54.000000</td>\n",
       "      <td>0.500000</td>\n",
       "      <td>49.000000</td>\n",
       "      <td>0.472601</td>\n",
       "      <td>0.433333</td>\n",
       "      <td>0.633333</td>\n",
       "    </tr>\n",
       "    <tr>\n",
       "      <th>max</th>\n",
       "      <td>671.000000</td>\n",
       "      <td>7.250000</td>\n",
       "      <td>313.000000</td>\n",
       "      <td>0.653846</td>\n",
       "      <td>311.000000</td>\n",
       "      <td>1.000000</td>\n",
       "      <td>1.000000</td>\n",
       "      <td>1.000000</td>\n",
       "    </tr>\n",
       "  </tbody>\n",
       "</table>\n",
       "</div>"
      ],
      "text/plain": [
       "       review_length  avg_word_length  stop_word_count  stop_word_rate  \\\n",
       "count    1474.000000      1474.000000      1474.000000     1474.000000   \n",
       "mean       88.027137         4.418699        41.478290        0.460045   \n",
       "std        70.849433         0.371596        34.528772        0.070024   \n",
       "min         4.000000         3.074074         0.000000        0.000000   \n",
       "25%        39.000000         4.180259        17.000000        0.428571   \n",
       "50%        68.000000         4.381369        32.000000        0.469697   \n",
       "75%       115.750000         4.605182        54.000000        0.500000   \n",
       "max       671.000000         7.250000       313.000000        0.653846   \n",
       "\n",
       "       clean_review_word_count  clean_review_word_rate     polarity  \\\n",
       "count              1474.000000             1474.000000  1474.000000   \n",
       "mean                 37.913161                0.434798     0.321668   \n",
       "std                  31.480539                0.074686     0.189904   \n",
       "min                   2.000000                0.200000    -0.335000   \n",
       "25%                  17.000000                0.391787     0.196646   \n",
       "50%                  28.500000                0.428571     0.315032   \n",
       "75%                  49.000000                0.472601     0.433333   \n",
       "max                 311.000000                1.000000     1.000000   \n",
       "\n",
       "       subjectivity  \n",
       "count   1474.000000  \n",
       "mean       0.549213  \n",
       "std        0.135094  \n",
       "min        0.000000  \n",
       "25%        0.470208  \n",
       "50%        0.552685  \n",
       "75%        0.633333  \n",
       "max        1.000000  "
      ]
     },
     "execution_count": 115,
     "metadata": {},
     "output_type": "execute_result"
    }
   ],
   "source": [
    "df.describe()"
   ]
  },
  {
   "cell_type": "markdown",
   "id": "220da4e8",
   "metadata": {},
   "source": [
    "##### We can see that the average polarity is 0.321 which is +ve, so on a whole this business is receiving +ve reviews, also the subjectivity is high, which means each review is very subjective to the person writing, which is expected when we are dealing with reviews"
   ]
  },
  {
   "cell_type": "code",
   "execution_count": 119,
   "id": "0bd24b78",
   "metadata": {},
   "outputs": [],
   "source": [
    "data_sentiment_analysis = df.drop(['stop_words','clean_reviews','lemmatized'] , axis =1 )"
   ]
  },
  {
   "cell_type": "code",
   "execution_count": 120,
   "id": "b187a0b2",
   "metadata": {},
   "outputs": [
    {
     "data": {
      "text/html": [
       "<div>\n",
       "<style scoped>\n",
       "    .dataframe tbody tr th:only-of-type {\n",
       "        vertical-align: middle;\n",
       "    }\n",
       "\n",
       "    .dataframe tbody tr th {\n",
       "        vertical-align: top;\n",
       "    }\n",
       "\n",
       "    .dataframe thead th {\n",
       "        text-align: right;\n",
       "    }\n",
       "</style>\n",
       "<table border=\"1\" class=\"dataframe\">\n",
       "  <thead>\n",
       "    <tr style=\"text-align: right;\">\n",
       "      <th></th>\n",
       "      <th>reviews</th>\n",
       "      <th>review_length</th>\n",
       "      <th>avg_word_length</th>\n",
       "      <th>stop_word_count</th>\n",
       "      <th>stop_word_rate</th>\n",
       "      <th>clean_review_word_count</th>\n",
       "      <th>clean_review_word_rate</th>\n",
       "      <th>polarity</th>\n",
       "      <th>subjectivity</th>\n",
       "    </tr>\n",
       "  </thead>\n",
       "  <tbody>\n",
       "    <tr>\n",
       "      <th>0</th>\n",
       "      <td>L'As du Falafel is a legend, and deservedly. T...</td>\n",
       "      <td>156</td>\n",
       "      <td>4.185897</td>\n",
       "      <td>76</td>\n",
       "      <td>0.487179</td>\n",
       "      <td>61</td>\n",
       "      <td>0.391026</td>\n",
       "      <td>0.310556</td>\n",
       "      <td>0.582831</td>\n",
       "    </tr>\n",
       "    <tr>\n",
       "      <th>1</th>\n",
       "      <td>L'as du Falafel is located right by our apartm...</td>\n",
       "      <td>258</td>\n",
       "      <td>4.073643</td>\n",
       "      <td>136</td>\n",
       "      <td>0.527132</td>\n",
       "      <td>90</td>\n",
       "      <td>0.348837</td>\n",
       "      <td>0.212434</td>\n",
       "      <td>0.515212</td>\n",
       "    </tr>\n",
       "    <tr>\n",
       "      <th>2</th>\n",
       "      <td>You will always find a long line leading up to...</td>\n",
       "      <td>58</td>\n",
       "      <td>4.362069</td>\n",
       "      <td>29</td>\n",
       "      <td>0.500000</td>\n",
       "      <td>24</td>\n",
       "      <td>0.413793</td>\n",
       "      <td>0.125000</td>\n",
       "      <td>0.348148</td>\n",
       "    </tr>\n",
       "    <tr>\n",
       "      <th>3</th>\n",
       "      <td>Had to try what the hype was all about. Two li...</td>\n",
       "      <td>59</td>\n",
       "      <td>4.152542</td>\n",
       "      <td>30</td>\n",
       "      <td>0.508475</td>\n",
       "      <td>24</td>\n",
       "      <td>0.406780</td>\n",
       "      <td>0.163889</td>\n",
       "      <td>0.433333</td>\n",
       "    </tr>\n",
       "    <tr>\n",
       "      <th>4</th>\n",
       "      <td>Ate fallafel on a No Diet Club food tour, and ...</td>\n",
       "      <td>119</td>\n",
       "      <td>4.168067</td>\n",
       "      <td>57</td>\n",
       "      <td>0.478992</td>\n",
       "      <td>48</td>\n",
       "      <td>0.403361</td>\n",
       "      <td>0.196429</td>\n",
       "      <td>0.477041</td>\n",
       "    </tr>\n",
       "  </tbody>\n",
       "</table>\n",
       "</div>"
      ],
      "text/plain": [
       "                                             reviews  review_length  \\\n",
       "0  L'As du Falafel is a legend, and deservedly. T...            156   \n",
       "1  L'as du Falafel is located right by our apartm...            258   \n",
       "2  You will always find a long line leading up to...             58   \n",
       "3  Had to try what the hype was all about. Two li...             59   \n",
       "4  Ate fallafel on a No Diet Club food tour, and ...            119   \n",
       "\n",
       "   avg_word_length  stop_word_count  stop_word_rate  clean_review_word_count  \\\n",
       "0         4.185897               76        0.487179                       61   \n",
       "1         4.073643              136        0.527132                       90   \n",
       "2         4.362069               29        0.500000                       24   \n",
       "3         4.152542               30        0.508475                       24   \n",
       "4         4.168067               57        0.478992                       48   \n",
       "\n",
       "   clean_review_word_rate  polarity  subjectivity  \n",
       "0                0.391026  0.310556      0.582831  \n",
       "1                0.348837  0.212434      0.515212  \n",
       "2                0.413793  0.125000      0.348148  \n",
       "3                0.406780  0.163889      0.433333  \n",
       "4                0.403361  0.196429      0.477041  "
      ]
     },
     "execution_count": 120,
     "metadata": {},
     "output_type": "execute_result"
    }
   ],
   "source": [
    "data_sentiment_analysis.head()"
   ]
  },
  {
   "cell_type": "code",
   "execution_count": 121,
   "id": "32a6fe61",
   "metadata": {},
   "outputs": [],
   "source": [
    "negative_reviews = data_sentiment_analysis[data_sentiment_analysis['polarity'] < 0]"
   ]
  },
  {
   "cell_type": "code",
   "execution_count": 122,
   "id": "ab2cc9ba",
   "metadata": {},
   "outputs": [],
   "source": [
    "positive_reviews = data_sentiment_analysis[data_sentiment_analysis['polarity'] > 0]"
   ]
  },
  {
   "cell_type": "code",
   "execution_count": null,
   "id": "b3c905a3",
   "metadata": {},
   "outputs": [],
   "source": []
  }
 ],
 "metadata": {
  "kernelspec": {
   "display_name": "Python 3 (ipykernel)",
   "language": "python",
   "name": "python3"
  },
  "language_info": {
   "codemirror_mode": {
    "name": "ipython",
    "version": 3
   },
   "file_extension": ".py",
   "mimetype": "text/x-python",
   "name": "python",
   "nbconvert_exporter": "python",
   "pygments_lexer": "ipython3",
   "version": "3.9.12"
  },
  "varInspector": {
   "cols": {
    "lenName": 16,
    "lenType": 16,
    "lenVar": 40
   },
   "kernels_config": {
    "python": {
     "delete_cmd_postfix": "",
     "delete_cmd_prefix": "del ",
     "library": "var_list.py",
     "varRefreshCmd": "print(var_dic_list())"
    },
    "r": {
     "delete_cmd_postfix": ") ",
     "delete_cmd_prefix": "rm(",
     "library": "var_list.r",
     "varRefreshCmd": "cat(var_dic_list()) "
    }
   },
   "types_to_exclude": [
    "module",
    "function",
    "builtin_function_or_method",
    "instance",
    "_Feature"
   ],
   "window_display": false
  }
 },
 "nbformat": 4,
 "nbformat_minor": 5
}
