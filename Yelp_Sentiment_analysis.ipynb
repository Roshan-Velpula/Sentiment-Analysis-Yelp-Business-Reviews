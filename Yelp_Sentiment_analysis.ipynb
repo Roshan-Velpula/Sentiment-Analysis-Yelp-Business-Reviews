{
  "cells": [
    {
      "cell_type": "markdown",
      "metadata": {
        "id": "view-in-github",
        "colab_type": "text"
      },
      "source": [
        "<a href=\"https://colab.research.google.com/github/Roshan-Velpula/Sentiment-Analysis-Yelp-Business-Reviews/blob/main/Yelp_Sentiment_analysis.ipynb\" target=\"_parent\"><img src=\"https://colab.research.google.com/assets/colab-badge.svg\" alt=\"Open In Colab\"/></a>"
      ]
    },
    {
      "cell_type": "markdown",
      "id": "a5567e33",
      "metadata": {
        "id": "a5567e33"
      },
      "source": [
        "# Sentiment Analysis for Business Reviews in Yelp"
      ]
    },
    {
      "cell_type": "code",
      "execution_count": null,
      "id": "cce16aba",
      "metadata": {
        "id": "cce16aba"
      },
      "outputs": [],
      "source": [
        "import requests"
      ]
    },
    {
      "cell_type": "code",
      "execution_count": null,
      "id": "93fcb720",
      "metadata": {
        "id": "93fcb720"
      },
      "outputs": [],
      "source": [
        "from bs4 import BeautifulSoup"
      ]
    },
    {
      "cell_type": "markdown",
      "id": "843d8c94",
      "metadata": {
        "id": "843d8c94"
      },
      "source": [
        "### Web scraping using Beautifulsoup - Yelp.com"
      ]
    },
    {
      "cell_type": "code",
      "execution_count": null,
      "id": "ea8a0323",
      "metadata": {
        "id": "ea8a0323"
      },
      "outputs": [],
      "source": [
        "r = requests.get('https://www.yelp.com/biz/l-as-du-fallafel-paris?osq=Restaurants')"
      ]
    },
    {
      "cell_type": "code",
      "execution_count": null,
      "id": "7de758c8",
      "metadata": {
        "colab": {
          "base_uri": "https://localhost:8080/"
        },
        "id": "7de758c8",
        "outputId": "e2f98a1c-06e0-478c-c47b-d9234b9a786f"
      },
      "outputs": [
        {
          "output_type": "execute_result",
          "data": {
            "text/plain": [
              "200"
            ]
          },
          "metadata": {},
          "execution_count": 4
        }
      ],
      "source": [
        "r.status_code"
      ]
    },
    {
      "cell_type": "code",
      "execution_count": null,
      "id": "79ed54b8",
      "metadata": {
        "id": "79ed54b8"
      },
      "outputs": [],
      "source": [
        "soup = BeautifulSoup(r.text, 'html.parser')"
      ]
    },
    {
      "cell_type": "code",
      "execution_count": null,
      "id": "f27616d4",
      "metadata": {
        "id": "f27616d4"
      },
      "outputs": [],
      "source": [
        "divs = soup.findAll(lang=\"en\", class_= \"raw__09f24__T4Ezm\")"
      ]
    },
    {
      "cell_type": "code",
      "execution_count": null,
      "id": "5eb34436",
      "metadata": {
        "id": "5eb34436"
      },
      "outputs": [],
      "source": [
        "reviews = []\n",
        "for div in divs:\n",
        "    reviews.append(div.get_text())"
      ]
    },
    {
      "cell_type": "code",
      "execution_count": null,
      "id": "404399ea",
      "metadata": {
        "id": "404399ea"
      },
      "outputs": [],
      "source": [
        "current_page = soup.find('div', class_='pagination-link--current__09f24__vBjKh')"
      ]
    },
    {
      "cell_type": "code",
      "execution_count": null,
      "id": "e9267212",
      "metadata": {
        "id": "e9267212"
      },
      "outputs": [],
      "source": [
        "# Scraping all the review pages using the while loop below. Next page url always has a pattern you need to observe"
      ]
    },
    {
      "cell_type": "code",
      "execution_count": null,
      "id": "7be2f61d",
      "metadata": {
        "collapsed": true,
        "colab": {
          "base_uri": "https://localhost:8080/"
        },
        "id": "7be2f61d",
        "outputId": "cb7888d0-1d4c-4d42-9280-eae67b2a643b"
      },
      "outputs": [
        {
          "output_type": "stream",
          "name": "stderr",
          "text": [
            "<>:9: SyntaxWarning: \"is not\" with a literal. Did you mean \"!=\"?\n",
            "<>:9: SyntaxWarning: \"is not\" with a literal. Did you mean \"!=\"?\n",
            "<ipython-input-10-e10670875d3b>:9: SyntaxWarning: \"is not\" with a literal. Did you mean \"!=\"?\n",
            "  if response.status_code is not 200:\n"
          ]
        }
      ],
      "source": [
        "while current_page:\n",
        "    # get the current page number\n",
        "    current_page_number = int(current_page.get_text())\n",
        "    #print(current_page_number) #this line to verify if all the existing review pages are scraped\n",
        "    \n",
        "    # construct the url for the next page\n",
        "    url = f'https://www.yelp.com/biz/l-as-du-fallafel-paris?osq=Restaurants&start={(current_page_number)*10}'\n",
        "    response = requests.get(url)\n",
        "    if response.status_code is not 200:\n",
        "        break\n",
        "    html_content = response.text\n",
        "    soup = BeautifulSoup(html_content, 'html.parser')\n",
        "    review_elements = soup.findAll(lang=\"en\", class_= \"raw__09f24__T4Ezm\")\n",
        "    for element in review_elements:\n",
        "        review_text = element.get_text()\n",
        "        reviews.append(review_text)\n",
        "        current_page = soup.find('div', class_='pagination-link--current__09f24__vBjKh')\n",
        "\n",
        "        \n",
        "    "
      ]
    },
    {
      "cell_type": "markdown",
      "id": "76c0a3a2",
      "metadata": {
        "id": "76c0a3a2"
      },
      "source": [
        "# Analysing Text Data"
      ]
    },
    {
      "cell_type": "code",
      "execution_count": null,
      "id": "ed3943bf",
      "metadata": {
        "id": "ed3943bf"
      },
      "outputs": [],
      "source": [
        "import pandas as pd"
      ]
    },
    {
      "cell_type": "code",
      "execution_count": null,
      "id": "61277b44",
      "metadata": {
        "id": "61277b44"
      },
      "outputs": [],
      "source": [
        "import numpy as np"
      ]
    },
    {
      "cell_type": "code",
      "execution_count": null,
      "id": "631c7455",
      "metadata": {
        "id": "631c7455"
      },
      "outputs": [],
      "source": [
        "df = pd.DataFrame(np.array(reviews), columns=['reviews'])"
      ]
    },
    {
      "cell_type": "code",
      "execution_count": null,
      "id": "e11ba9f3",
      "metadata": {
        "colab": {
          "base_uri": "https://localhost:8080/",
          "height": 206
        },
        "id": "e11ba9f3",
        "outputId": "9849c09d-1be2-4d72-f84c-1f20c8a01f2d"
      },
      "outputs": [
        {
          "output_type": "execute_result",
          "data": {
            "text/plain": [
              "                                             reviews\n",
              "0  What!? I haven't left a review about this plac...\n",
              "1  L'as du Falafel is located right by our apartm...\n",
              "2  You will always find a long line leading up to...\n",
              "3  I love this place!I never really paid attentio...\n",
              "4  Ate fallafel on a No Diet Club food tour, and ..."
            ],
            "text/html": [
              "\n",
              "  <div id=\"df-ca4d04d1-5a89-4812-ab26-e0c4b08f5cb8\">\n",
              "    <div class=\"colab-df-container\">\n",
              "      <div>\n",
              "<style scoped>\n",
              "    .dataframe tbody tr th:only-of-type {\n",
              "        vertical-align: middle;\n",
              "    }\n",
              "\n",
              "    .dataframe tbody tr th {\n",
              "        vertical-align: top;\n",
              "    }\n",
              "\n",
              "    .dataframe thead th {\n",
              "        text-align: right;\n",
              "    }\n",
              "</style>\n",
              "<table border=\"1\" class=\"dataframe\">\n",
              "  <thead>\n",
              "    <tr style=\"text-align: right;\">\n",
              "      <th></th>\n",
              "      <th>reviews</th>\n",
              "    </tr>\n",
              "  </thead>\n",
              "  <tbody>\n",
              "    <tr>\n",
              "      <th>0</th>\n",
              "      <td>What!? I haven't left a review about this plac...</td>\n",
              "    </tr>\n",
              "    <tr>\n",
              "      <th>1</th>\n",
              "      <td>L'as du Falafel is located right by our apartm...</td>\n",
              "    </tr>\n",
              "    <tr>\n",
              "      <th>2</th>\n",
              "      <td>You will always find a long line leading up to...</td>\n",
              "    </tr>\n",
              "    <tr>\n",
              "      <th>3</th>\n",
              "      <td>I love this place!I never really paid attentio...</td>\n",
              "    </tr>\n",
              "    <tr>\n",
              "      <th>4</th>\n",
              "      <td>Ate fallafel on a No Diet Club food tour, and ...</td>\n",
              "    </tr>\n",
              "  </tbody>\n",
              "</table>\n",
              "</div>\n",
              "      <button class=\"colab-df-convert\" onclick=\"convertToInteractive('df-ca4d04d1-5a89-4812-ab26-e0c4b08f5cb8')\"\n",
              "              title=\"Convert this dataframe to an interactive table.\"\n",
              "              style=\"display:none;\">\n",
              "        \n",
              "  <svg xmlns=\"http://www.w3.org/2000/svg\" height=\"24px\"viewBox=\"0 0 24 24\"\n",
              "       width=\"24px\">\n",
              "    <path d=\"M0 0h24v24H0V0z\" fill=\"none\"/>\n",
              "    <path d=\"M18.56 5.44l.94 2.06.94-2.06 2.06-.94-2.06-.94-.94-2.06-.94 2.06-2.06.94zm-11 1L8.5 8.5l.94-2.06 2.06-.94-2.06-.94L8.5 2.5l-.94 2.06-2.06.94zm10 10l.94 2.06.94-2.06 2.06-.94-2.06-.94-.94-2.06-.94 2.06-2.06.94z\"/><path d=\"M17.41 7.96l-1.37-1.37c-.4-.4-.92-.59-1.43-.59-.52 0-1.04.2-1.43.59L10.3 9.45l-7.72 7.72c-.78.78-.78 2.05 0 2.83L4 21.41c.39.39.9.59 1.41.59.51 0 1.02-.2 1.41-.59l7.78-7.78 2.81-2.81c.8-.78.8-2.07 0-2.86zM5.41 20L4 18.59l7.72-7.72 1.47 1.35L5.41 20z\"/>\n",
              "  </svg>\n",
              "      </button>\n",
              "      \n",
              "  <style>\n",
              "    .colab-df-container {\n",
              "      display:flex;\n",
              "      flex-wrap:wrap;\n",
              "      gap: 12px;\n",
              "    }\n",
              "\n",
              "    .colab-df-convert {\n",
              "      background-color: #E8F0FE;\n",
              "      border: none;\n",
              "      border-radius: 50%;\n",
              "      cursor: pointer;\n",
              "      display: none;\n",
              "      fill: #1967D2;\n",
              "      height: 32px;\n",
              "      padding: 0 0 0 0;\n",
              "      width: 32px;\n",
              "    }\n",
              "\n",
              "    .colab-df-convert:hover {\n",
              "      background-color: #E2EBFA;\n",
              "      box-shadow: 0px 1px 2px rgba(60, 64, 67, 0.3), 0px 1px 3px 1px rgba(60, 64, 67, 0.15);\n",
              "      fill: #174EA6;\n",
              "    }\n",
              "\n",
              "    [theme=dark] .colab-df-convert {\n",
              "      background-color: #3B4455;\n",
              "      fill: #D2E3FC;\n",
              "    }\n",
              "\n",
              "    [theme=dark] .colab-df-convert:hover {\n",
              "      background-color: #434B5C;\n",
              "      box-shadow: 0px 1px 3px 1px rgba(0, 0, 0, 0.15);\n",
              "      filter: drop-shadow(0px 1px 2px rgba(0, 0, 0, 0.3));\n",
              "      fill: #FFFFFF;\n",
              "    }\n",
              "  </style>\n",
              "\n",
              "      <script>\n",
              "        const buttonEl =\n",
              "          document.querySelector('#df-ca4d04d1-5a89-4812-ab26-e0c4b08f5cb8 button.colab-df-convert');\n",
              "        buttonEl.style.display =\n",
              "          google.colab.kernel.accessAllowed ? 'block' : 'none';\n",
              "\n",
              "        async function convertToInteractive(key) {\n",
              "          const element = document.querySelector('#df-ca4d04d1-5a89-4812-ab26-e0c4b08f5cb8');\n",
              "          const dataTable =\n",
              "            await google.colab.kernel.invokeFunction('convertToInteractive',\n",
              "                                                     [key], {});\n",
              "          if (!dataTable) return;\n",
              "\n",
              "          const docLinkHtml = 'Like what you see? Visit the ' +\n",
              "            '<a target=\"_blank\" href=https://colab.research.google.com/notebooks/data_table.ipynb>data table notebook</a>'\n",
              "            + ' to learn more about interactive tables.';\n",
              "          element.innerHTML = '';\n",
              "          dataTable['output_type'] = 'display_data';\n",
              "          await google.colab.output.renderOutput(dataTable, element);\n",
              "          const docLink = document.createElement('div');\n",
              "          docLink.innerHTML = docLinkHtml;\n",
              "          element.appendChild(docLink);\n",
              "        }\n",
              "      </script>\n",
              "    </div>\n",
              "  </div>\n",
              "  "
            ]
          },
          "metadata": {},
          "execution_count": 14
        }
      ],
      "source": [
        "df.head()"
      ]
    },
    {
      "cell_type": "code",
      "execution_count": null,
      "id": "56abfb86",
      "metadata": {
        "id": "56abfb86"
      },
      "outputs": [],
      "source": [
        "df['review_length'] = df['reviews'].apply(lambda x: len(x.split()))"
      ]
    },
    {
      "cell_type": "code",
      "execution_count": null,
      "id": "0399f886",
      "metadata": {
        "id": "0399f886"
      },
      "outputs": [],
      "source": [
        "def avg_words(x):\n",
        "    words = x.split()\n",
        "    return sum(len(word) for word in words) / len(words)"
      ]
    },
    {
      "cell_type": "code",
      "execution_count": null,
      "id": "bf03c5c2",
      "metadata": {
        "id": "bf03c5c2"
      },
      "outputs": [],
      "source": [
        "df['avg_word_length']= df['reviews'].apply(lambda x: avg_words(x))"
      ]
    },
    {
      "cell_type": "code",
      "execution_count": null,
      "id": "d8b997d9",
      "metadata": {
        "colab": {
          "base_uri": "https://localhost:8080/"
        },
        "id": "d8b997d9",
        "outputId": "5ddacb25-c38d-42a1-b876-6621f5c477dd"
      },
      "outputs": [
        {
          "output_type": "stream",
          "name": "stderr",
          "text": [
            "[nltk_data] Downloading package stopwords to /root/nltk_data...\n",
            "[nltk_data]   Unzipping corpora/stopwords.zip.\n"
          ]
        },
        {
          "output_type": "execute_result",
          "data": {
            "text/plain": [
              "True"
            ]
          },
          "metadata": {},
          "execution_count": 18
        }
      ],
      "source": [
        "import nltk\n",
        "nltk.download('stopwords')"
      ]
    },
    {
      "cell_type": "code",
      "execution_count": null,
      "id": "af342a15",
      "metadata": {
        "id": "af342a15"
      },
      "outputs": [],
      "source": [
        "from nltk.corpus import stopwords"
      ]
    },
    {
      "cell_type": "code",
      "execution_count": null,
      "id": "276fdee7",
      "metadata": {
        "id": "276fdee7"
      },
      "outputs": [],
      "source": [
        "stop_words = stopwords.words('english')"
      ]
    },
    {
      "cell_type": "code",
      "execution_count": null,
      "id": "e3e74ccf",
      "metadata": {
        "id": "e3e74ccf"
      },
      "outputs": [],
      "source": [
        "df['stop_word_count']= df['reviews'].apply(lambda x: len([word for word in x.split() if word.lower() in stop_words]))"
      ]
    },
    {
      "cell_type": "code",
      "execution_count": null,
      "id": "7953d159",
      "metadata": {
        "id": "7953d159"
      },
      "outputs": [],
      "source": [
        "df['stop_word_rate'] = df['stop_word_count'] / df['review_length']"
      ]
    },
    {
      "cell_type": "code",
      "execution_count": null,
      "id": "461ea79b",
      "metadata": {
        "colab": {
          "base_uri": "https://localhost:8080/",
          "height": 423
        },
        "id": "461ea79b",
        "outputId": "326316d1-dd18-4352-f8b6-c6ceec5cc9d4"
      },
      "outputs": [
        {
          "output_type": "execute_result",
          "data": {
            "text/plain": [
              "                                               reviews  review_length  \\\n",
              "12   Certainement ils étaitent délicieux, mais les ...             54   \n",
              "58   Good break from French food incredible falafel...             13   \n",
              "330  Fun touristy place to stop. Big portions. Good...             24   \n",
              "142  Toujours imité mais jamais égalé! Easily the b...             24   \n",
              "215  Best falafel sandwich ever !i am totally going...             33   \n",
              "..                                                 ...            ...   \n",
              "487  My husband and I loved the food here while in ...             29   \n",
              "397  The pita here is out of this world! I also enj...             46   \n",
              "144  At first I was skeptical of it being the o Lu ...             37   \n",
              "208  Growing up in Paris I can confidently say this...             20   \n",
              "441  Wow. The falafel was amazing. My fiancé and I ...             70   \n",
              "\n",
              "     avg_word_length  stop_word_count  stop_word_rate  \n",
              "12          5.018519                0        0.000000  \n",
              "58          5.846154                2        0.153846  \n",
              "330         4.916667                5        0.208333  \n",
              "142         4.791667                5        0.208333  \n",
              "215         4.272727                8        0.242424  \n",
              "..               ...              ...             ...  \n",
              "487         4.241379               17        0.586207  \n",
              "397         4.043478               27        0.586957  \n",
              "144         3.675676               22        0.594595  \n",
              "208         3.800000               12        0.600000  \n",
              "441         3.885714               43        0.614286  \n",
              "\n",
              "[504 rows x 5 columns]"
            ],
            "text/html": [
              "\n",
              "  <div id=\"df-3fedbd14-e1ae-4281-ade6-65ee27fd94ff\">\n",
              "    <div class=\"colab-df-container\">\n",
              "      <div>\n",
              "<style scoped>\n",
              "    .dataframe tbody tr th:only-of-type {\n",
              "        vertical-align: middle;\n",
              "    }\n",
              "\n",
              "    .dataframe tbody tr th {\n",
              "        vertical-align: top;\n",
              "    }\n",
              "\n",
              "    .dataframe thead th {\n",
              "        text-align: right;\n",
              "    }\n",
              "</style>\n",
              "<table border=\"1\" class=\"dataframe\">\n",
              "  <thead>\n",
              "    <tr style=\"text-align: right;\">\n",
              "      <th></th>\n",
              "      <th>reviews</th>\n",
              "      <th>review_length</th>\n",
              "      <th>avg_word_length</th>\n",
              "      <th>stop_word_count</th>\n",
              "      <th>stop_word_rate</th>\n",
              "    </tr>\n",
              "  </thead>\n",
              "  <tbody>\n",
              "    <tr>\n",
              "      <th>12</th>\n",
              "      <td>Certainement ils étaitent délicieux, mais les ...</td>\n",
              "      <td>54</td>\n",
              "      <td>5.018519</td>\n",
              "      <td>0</td>\n",
              "      <td>0.000000</td>\n",
              "    </tr>\n",
              "    <tr>\n",
              "      <th>58</th>\n",
              "      <td>Good break from French food incredible falafel...</td>\n",
              "      <td>13</td>\n",
              "      <td>5.846154</td>\n",
              "      <td>2</td>\n",
              "      <td>0.153846</td>\n",
              "    </tr>\n",
              "    <tr>\n",
              "      <th>330</th>\n",
              "      <td>Fun touristy place to stop. Big portions. Good...</td>\n",
              "      <td>24</td>\n",
              "      <td>4.916667</td>\n",
              "      <td>5</td>\n",
              "      <td>0.208333</td>\n",
              "    </tr>\n",
              "    <tr>\n",
              "      <th>142</th>\n",
              "      <td>Toujours imité mais jamais égalé! Easily the b...</td>\n",
              "      <td>24</td>\n",
              "      <td>4.791667</td>\n",
              "      <td>5</td>\n",
              "      <td>0.208333</td>\n",
              "    </tr>\n",
              "    <tr>\n",
              "      <th>215</th>\n",
              "      <td>Best falafel sandwich ever !i am totally going...</td>\n",
              "      <td>33</td>\n",
              "      <td>4.272727</td>\n",
              "      <td>8</td>\n",
              "      <td>0.242424</td>\n",
              "    </tr>\n",
              "    <tr>\n",
              "      <th>...</th>\n",
              "      <td>...</td>\n",
              "      <td>...</td>\n",
              "      <td>...</td>\n",
              "      <td>...</td>\n",
              "      <td>...</td>\n",
              "    </tr>\n",
              "    <tr>\n",
              "      <th>487</th>\n",
              "      <td>My husband and I loved the food here while in ...</td>\n",
              "      <td>29</td>\n",
              "      <td>4.241379</td>\n",
              "      <td>17</td>\n",
              "      <td>0.586207</td>\n",
              "    </tr>\n",
              "    <tr>\n",
              "      <th>397</th>\n",
              "      <td>The pita here is out of this world! I also enj...</td>\n",
              "      <td>46</td>\n",
              "      <td>4.043478</td>\n",
              "      <td>27</td>\n",
              "      <td>0.586957</td>\n",
              "    </tr>\n",
              "    <tr>\n",
              "      <th>144</th>\n",
              "      <td>At first I was skeptical of it being the o Lu ...</td>\n",
              "      <td>37</td>\n",
              "      <td>3.675676</td>\n",
              "      <td>22</td>\n",
              "      <td>0.594595</td>\n",
              "    </tr>\n",
              "    <tr>\n",
              "      <th>208</th>\n",
              "      <td>Growing up in Paris I can confidently say this...</td>\n",
              "      <td>20</td>\n",
              "      <td>3.800000</td>\n",
              "      <td>12</td>\n",
              "      <td>0.600000</td>\n",
              "    </tr>\n",
              "    <tr>\n",
              "      <th>441</th>\n",
              "      <td>Wow. The falafel was amazing. My fiancé and I ...</td>\n",
              "      <td>70</td>\n",
              "      <td>3.885714</td>\n",
              "      <td>43</td>\n",
              "      <td>0.614286</td>\n",
              "    </tr>\n",
              "  </tbody>\n",
              "</table>\n",
              "<p>504 rows × 5 columns</p>\n",
              "</div>\n",
              "      <button class=\"colab-df-convert\" onclick=\"convertToInteractive('df-3fedbd14-e1ae-4281-ade6-65ee27fd94ff')\"\n",
              "              title=\"Convert this dataframe to an interactive table.\"\n",
              "              style=\"display:none;\">\n",
              "        \n",
              "  <svg xmlns=\"http://www.w3.org/2000/svg\" height=\"24px\"viewBox=\"0 0 24 24\"\n",
              "       width=\"24px\">\n",
              "    <path d=\"M0 0h24v24H0V0z\" fill=\"none\"/>\n",
              "    <path d=\"M18.56 5.44l.94 2.06.94-2.06 2.06-.94-2.06-.94-.94-2.06-.94 2.06-2.06.94zm-11 1L8.5 8.5l.94-2.06 2.06-.94-2.06-.94L8.5 2.5l-.94 2.06-2.06.94zm10 10l.94 2.06.94-2.06 2.06-.94-2.06-.94-.94-2.06-.94 2.06-2.06.94z\"/><path d=\"M17.41 7.96l-1.37-1.37c-.4-.4-.92-.59-1.43-.59-.52 0-1.04.2-1.43.59L10.3 9.45l-7.72 7.72c-.78.78-.78 2.05 0 2.83L4 21.41c.39.39.9.59 1.41.59.51 0 1.02-.2 1.41-.59l7.78-7.78 2.81-2.81c.8-.78.8-2.07 0-2.86zM5.41 20L4 18.59l7.72-7.72 1.47 1.35L5.41 20z\"/>\n",
              "  </svg>\n",
              "      </button>\n",
              "      \n",
              "  <style>\n",
              "    .colab-df-container {\n",
              "      display:flex;\n",
              "      flex-wrap:wrap;\n",
              "      gap: 12px;\n",
              "    }\n",
              "\n",
              "    .colab-df-convert {\n",
              "      background-color: #E8F0FE;\n",
              "      border: none;\n",
              "      border-radius: 50%;\n",
              "      cursor: pointer;\n",
              "      display: none;\n",
              "      fill: #1967D2;\n",
              "      height: 32px;\n",
              "      padding: 0 0 0 0;\n",
              "      width: 32px;\n",
              "    }\n",
              "\n",
              "    .colab-df-convert:hover {\n",
              "      background-color: #E2EBFA;\n",
              "      box-shadow: 0px 1px 2px rgba(60, 64, 67, 0.3), 0px 1px 3px 1px rgba(60, 64, 67, 0.15);\n",
              "      fill: #174EA6;\n",
              "    }\n",
              "\n",
              "    [theme=dark] .colab-df-convert {\n",
              "      background-color: #3B4455;\n",
              "      fill: #D2E3FC;\n",
              "    }\n",
              "\n",
              "    [theme=dark] .colab-df-convert:hover {\n",
              "      background-color: #434B5C;\n",
              "      box-shadow: 0px 1px 3px 1px rgba(0, 0, 0, 0.15);\n",
              "      filter: drop-shadow(0px 1px 2px rgba(0, 0, 0, 0.3));\n",
              "      fill: #FFFFFF;\n",
              "    }\n",
              "  </style>\n",
              "\n",
              "      <script>\n",
              "        const buttonEl =\n",
              "          document.querySelector('#df-3fedbd14-e1ae-4281-ade6-65ee27fd94ff button.colab-df-convert');\n",
              "        buttonEl.style.display =\n",
              "          google.colab.kernel.accessAllowed ? 'block' : 'none';\n",
              "\n",
              "        async function convertToInteractive(key) {\n",
              "          const element = document.querySelector('#df-3fedbd14-e1ae-4281-ade6-65ee27fd94ff');\n",
              "          const dataTable =\n",
              "            await google.colab.kernel.invokeFunction('convertToInteractive',\n",
              "                                                     [key], {});\n",
              "          if (!dataTable) return;\n",
              "\n",
              "          const docLinkHtml = 'Like what you see? Visit the ' +\n",
              "            '<a target=\"_blank\" href=https://colab.research.google.com/notebooks/data_table.ipynb>data table notebook</a>'\n",
              "            + ' to learn more about interactive tables.';\n",
              "          element.innerHTML = '';\n",
              "          dataTable['output_type'] = 'display_data';\n",
              "          await google.colab.output.renderOutput(dataTable, element);\n",
              "          const docLink = document.createElement('div');\n",
              "          docLink.innerHTML = docLinkHtml;\n",
              "          element.appendChild(docLink);\n",
              "        }\n",
              "      </script>\n",
              "    </div>\n",
              "  </div>\n",
              "  "
            ]
          },
          "metadata": {},
          "execution_count": 23
        }
      ],
      "source": [
        "df.sort_values(by='stop_word_rate')"
      ]
    },
    {
      "cell_type": "code",
      "execution_count": null,
      "id": "828cd103",
      "metadata": {
        "colab": {
          "base_uri": "https://localhost:8080/",
          "height": 300
        },
        "id": "828cd103",
        "outputId": "499a00cf-eff7-44d8-c798-64f10508c7b5"
      },
      "outputs": [
        {
          "output_type": "execute_result",
          "data": {
            "text/plain": [
              "       review_length  avg_word_length  stop_word_count  stop_word_rate\n",
              "count     504.000000       504.000000       504.000000      504.000000\n",
              "mean      102.916667         4.420706        48.720238        0.463312\n",
              "std        78.639582         0.334692        38.431617        0.063820\n",
              "min        13.000000         3.644444         0.000000        0.000000\n",
              "25%        49.000000         4.197449        22.000000        0.434578\n",
              "50%        79.000000         4.374167        38.000000        0.472222\n",
              "75%       139.000000         4.617468        65.000000        0.500000\n",
              "max       671.000000         6.142857       313.000000        0.614286"
            ],
            "text/html": [
              "\n",
              "  <div id=\"df-aeb46359-b806-40f7-9093-e284c7b79923\">\n",
              "    <div class=\"colab-df-container\">\n",
              "      <div>\n",
              "<style scoped>\n",
              "    .dataframe tbody tr th:only-of-type {\n",
              "        vertical-align: middle;\n",
              "    }\n",
              "\n",
              "    .dataframe tbody tr th {\n",
              "        vertical-align: top;\n",
              "    }\n",
              "\n",
              "    .dataframe thead th {\n",
              "        text-align: right;\n",
              "    }\n",
              "</style>\n",
              "<table border=\"1\" class=\"dataframe\">\n",
              "  <thead>\n",
              "    <tr style=\"text-align: right;\">\n",
              "      <th></th>\n",
              "      <th>review_length</th>\n",
              "      <th>avg_word_length</th>\n",
              "      <th>stop_word_count</th>\n",
              "      <th>stop_word_rate</th>\n",
              "    </tr>\n",
              "  </thead>\n",
              "  <tbody>\n",
              "    <tr>\n",
              "      <th>count</th>\n",
              "      <td>504.000000</td>\n",
              "      <td>504.000000</td>\n",
              "      <td>504.000000</td>\n",
              "      <td>504.000000</td>\n",
              "    </tr>\n",
              "    <tr>\n",
              "      <th>mean</th>\n",
              "      <td>102.916667</td>\n",
              "      <td>4.420706</td>\n",
              "      <td>48.720238</td>\n",
              "      <td>0.463312</td>\n",
              "    </tr>\n",
              "    <tr>\n",
              "      <th>std</th>\n",
              "      <td>78.639582</td>\n",
              "      <td>0.334692</td>\n",
              "      <td>38.431617</td>\n",
              "      <td>0.063820</td>\n",
              "    </tr>\n",
              "    <tr>\n",
              "      <th>min</th>\n",
              "      <td>13.000000</td>\n",
              "      <td>3.644444</td>\n",
              "      <td>0.000000</td>\n",
              "      <td>0.000000</td>\n",
              "    </tr>\n",
              "    <tr>\n",
              "      <th>25%</th>\n",
              "      <td>49.000000</td>\n",
              "      <td>4.197449</td>\n",
              "      <td>22.000000</td>\n",
              "      <td>0.434578</td>\n",
              "    </tr>\n",
              "    <tr>\n",
              "      <th>50%</th>\n",
              "      <td>79.000000</td>\n",
              "      <td>4.374167</td>\n",
              "      <td>38.000000</td>\n",
              "      <td>0.472222</td>\n",
              "    </tr>\n",
              "    <tr>\n",
              "      <th>75%</th>\n",
              "      <td>139.000000</td>\n",
              "      <td>4.617468</td>\n",
              "      <td>65.000000</td>\n",
              "      <td>0.500000</td>\n",
              "    </tr>\n",
              "    <tr>\n",
              "      <th>max</th>\n",
              "      <td>671.000000</td>\n",
              "      <td>6.142857</td>\n",
              "      <td>313.000000</td>\n",
              "      <td>0.614286</td>\n",
              "    </tr>\n",
              "  </tbody>\n",
              "</table>\n",
              "</div>\n",
              "      <button class=\"colab-df-convert\" onclick=\"convertToInteractive('df-aeb46359-b806-40f7-9093-e284c7b79923')\"\n",
              "              title=\"Convert this dataframe to an interactive table.\"\n",
              "              style=\"display:none;\">\n",
              "        \n",
              "  <svg xmlns=\"http://www.w3.org/2000/svg\" height=\"24px\"viewBox=\"0 0 24 24\"\n",
              "       width=\"24px\">\n",
              "    <path d=\"M0 0h24v24H0V0z\" fill=\"none\"/>\n",
              "    <path d=\"M18.56 5.44l.94 2.06.94-2.06 2.06-.94-2.06-.94-.94-2.06-.94 2.06-2.06.94zm-11 1L8.5 8.5l.94-2.06 2.06-.94-2.06-.94L8.5 2.5l-.94 2.06-2.06.94zm10 10l.94 2.06.94-2.06 2.06-.94-2.06-.94-.94-2.06-.94 2.06-2.06.94z\"/><path d=\"M17.41 7.96l-1.37-1.37c-.4-.4-.92-.59-1.43-.59-.52 0-1.04.2-1.43.59L10.3 9.45l-7.72 7.72c-.78.78-.78 2.05 0 2.83L4 21.41c.39.39.9.59 1.41.59.51 0 1.02-.2 1.41-.59l7.78-7.78 2.81-2.81c.8-.78.8-2.07 0-2.86zM5.41 20L4 18.59l7.72-7.72 1.47 1.35L5.41 20z\"/>\n",
              "  </svg>\n",
              "      </button>\n",
              "      \n",
              "  <style>\n",
              "    .colab-df-container {\n",
              "      display:flex;\n",
              "      flex-wrap:wrap;\n",
              "      gap: 12px;\n",
              "    }\n",
              "\n",
              "    .colab-df-convert {\n",
              "      background-color: #E8F0FE;\n",
              "      border: none;\n",
              "      border-radius: 50%;\n",
              "      cursor: pointer;\n",
              "      display: none;\n",
              "      fill: #1967D2;\n",
              "      height: 32px;\n",
              "      padding: 0 0 0 0;\n",
              "      width: 32px;\n",
              "    }\n",
              "\n",
              "    .colab-df-convert:hover {\n",
              "      background-color: #E2EBFA;\n",
              "      box-shadow: 0px 1px 2px rgba(60, 64, 67, 0.3), 0px 1px 3px 1px rgba(60, 64, 67, 0.15);\n",
              "      fill: #174EA6;\n",
              "    }\n",
              "\n",
              "    [theme=dark] .colab-df-convert {\n",
              "      background-color: #3B4455;\n",
              "      fill: #D2E3FC;\n",
              "    }\n",
              "\n",
              "    [theme=dark] .colab-df-convert:hover {\n",
              "      background-color: #434B5C;\n",
              "      box-shadow: 0px 1px 3px 1px rgba(0, 0, 0, 0.15);\n",
              "      filter: drop-shadow(0px 1px 2px rgba(0, 0, 0, 0.3));\n",
              "      fill: #FFFFFF;\n",
              "    }\n",
              "  </style>\n",
              "\n",
              "      <script>\n",
              "        const buttonEl =\n",
              "          document.querySelector('#df-aeb46359-b806-40f7-9093-e284c7b79923 button.colab-df-convert');\n",
              "        buttonEl.style.display =\n",
              "          google.colab.kernel.accessAllowed ? 'block' : 'none';\n",
              "\n",
              "        async function convertToInteractive(key) {\n",
              "          const element = document.querySelector('#df-aeb46359-b806-40f7-9093-e284c7b79923');\n",
              "          const dataTable =\n",
              "            await google.colab.kernel.invokeFunction('convertToInteractive',\n",
              "                                                     [key], {});\n",
              "          if (!dataTable) return;\n",
              "\n",
              "          const docLinkHtml = 'Like what you see? Visit the ' +\n",
              "            '<a target=\"_blank\" href=https://colab.research.google.com/notebooks/data_table.ipynb>data table notebook</a>'\n",
              "            + ' to learn more about interactive tables.';\n",
              "          element.innerHTML = '';\n",
              "          dataTable['output_type'] = 'display_data';\n",
              "          await google.colab.output.renderOutput(dataTable, element);\n",
              "          const docLink = document.createElement('div');\n",
              "          docLink.innerHTML = docLinkHtml;\n",
              "          element.appendChild(docLink);\n",
              "        }\n",
              "      </script>\n",
              "    </div>\n",
              "  </div>\n",
              "  "
            ]
          },
          "metadata": {},
          "execution_count": 24
        }
      ],
      "source": [
        "df.describe()"
      ]
    },
    {
      "cell_type": "markdown",
      "id": "56c43425",
      "metadata": {
        "id": "56c43425"
      },
      "source": [
        "# Cleaning"
      ]
    },
    {
      "cell_type": "code",
      "execution_count": null,
      "id": "d38633d3",
      "metadata": {
        "id": "d38633d3"
      },
      "outputs": [],
      "source": [
        "def remove_stopwords(x):\n",
        "    words = x.split()\n",
        "    filtered_words = [word for word in words if word.lower() not in stop_words]\n",
        "    return \" \".join(filtered_words)"
      ]
    },
    {
      "cell_type": "code",
      "execution_count": null,
      "id": "e505320d",
      "metadata": {
        "id": "e505320d"
      },
      "outputs": [],
      "source": [
        "df['stop_words'] = df['reviews'].apply(lambda x: remove_stopwords(x))  #Removed stop words from reviews"
      ]
    },
    {
      "cell_type": "code",
      "execution_count": null,
      "id": "3fd2223a",
      "metadata": {
        "colab": {
          "base_uri": "https://localhost:8080/"
        },
        "id": "3fd2223a",
        "outputId": "1c0761c9-c156-4efa-d2ce-cc091432c199"
      },
      "outputs": [
        {
          "output_type": "stream",
          "name": "stderr",
          "text": [
            "<ipython-input-27-117627f3257a>:1: FutureWarning: The default value of regex will change from True to False in a future version.\n",
            "  df['stop_words']= df['stop_words'].str.replace('[^\\w\\s]', '')  #Cleaning  punctuation\n"
          ]
        }
      ],
      "source": [
        "df['stop_words']= df['stop_words'].str.replace('[^\\w\\s]', '')  #Cleaning  punctuation"
      ]
    },
    {
      "cell_type": "code",
      "execution_count": null,
      "id": "e8d5949d",
      "metadata": {
        "id": "e8d5949d"
      },
      "outputs": [],
      "source": [
        "#Review Recurring words\n",
        "#Just manually removing the most recurring words that doesnt make sense to our analysis"
      ]
    },
    {
      "cell_type": "code",
      "execution_count": null,
      "id": "a6fb97c6",
      "metadata": {
        "colab": {
          "base_uri": "https://localhost:8080/"
        },
        "id": "a6fb97c6",
        "outputId": "c17d6fa2-dea6-447b-fc8b-a7b4d5c16adb"
      },
      "outputs": [
        {
          "output_type": "execute_result",
          "data": {
            "text/plain": [
              "falafel      713\n",
              "line         335\n",
              "place        304\n",
              "paris        296\n",
              "good         264\n",
              "food         238\n",
              "sandwich     236\n",
              "sauce        229\n",
              "pita         217\n",
              "best         212\n",
              "fallafel     201\n",
              "one          189\n",
              "get          189\n",
              "go           181\n",
              "long         146\n",
              "really       145\n",
              "great        144\n",
              "eat          142\n",
              "wait         141\n",
              "got          139\n",
              "inside       132\n",
              "delicious    129\n",
              "it           129\n",
              "ive          125\n",
              "order        122\n",
              "falafels     120\n",
              "would        118\n",
              "eggplant     116\n",
              "like         115\n",
              "also         111\n",
              "dtype: int64"
            ]
          },
          "metadata": {},
          "execution_count": 29
        }
      ],
      "source": [
        "pd.Series(\" \".join(df['stop_words']).lower().split()).value_counts()[:30]"
      ]
    },
    {
      "cell_type": "code",
      "execution_count": null,
      "id": "8defd92b",
      "metadata": {
        "id": "8defd92b"
      },
      "outputs": [],
      "source": [
        "recurring_words = ['falafel','place','line','paris', 'food','one','get','go','sandwich','fallafel','sauce','pita','eat','ive','it','inside','eggplant','las','falafels','shawarma','restaurant','also','would','du','got','back']"
      ]
    },
    {
      "cell_type": "code",
      "execution_count": null,
      "id": "baa39815",
      "metadata": {
        "id": "baa39815"
      },
      "outputs": [],
      "source": [
        "df['stop_words'] = df['stop_words'].apply(lambda x: x.lower())"
      ]
    },
    {
      "cell_type": "code",
      "execution_count": null,
      "id": "ada533a9",
      "metadata": {
        "id": "ada533a9"
      },
      "outputs": [],
      "source": [
        "df['clean_reviews']= df['stop_words'].apply(lambda x: \" \".join(word for word in x.split() if word not in recurring_words))"
      ]
    },
    {
      "cell_type": "code",
      "execution_count": null,
      "id": "66717b0e",
      "metadata": {
        "colab": {
          "base_uri": "https://localhost:8080/"
        },
        "id": "66717b0e",
        "outputId": "581e47b0-9090-4fa3-9529-0adc55b1ffaf"
      },
      "outputs": [
        {
          "output_type": "execute_result",
          "data": {
            "text/plain": [
              "good          264\n",
              "best          212\n",
              "long          146\n",
              "really        145\n",
              "great         144\n",
              "wait          141\n",
              "delicious     129\n",
              "order         122\n",
              "like          115\n",
              "time          110\n",
              "definitely    109\n",
              "worth         109\n",
              "try           107\n",
              "spicy         107\n",
              "ever          104\n",
              "take          101\n",
              "fresh          98\n",
              "well           98\n",
              "amazing        88\n",
              "ordered        84\n",
              "people         83\n",
              "around         80\n",
              "im             79\n",
              "service        78\n",
              "came           76\n",
              "fast           76\n",
              "make           73\n",
              "hot            73\n",
              "much           73\n",
              "even           72\n",
              "dtype: int64"
            ]
          },
          "metadata": {},
          "execution_count": 33
        }
      ],
      "source": [
        "pd.Series(\" \".join(df['clean_reviews']).lower().split()).value_counts()[:30]"
      ]
    },
    {
      "cell_type": "code",
      "execution_count": null,
      "id": "2cd342ae",
      "metadata": {
        "colab": {
          "base_uri": "https://localhost:8080/",
          "height": 337
        },
        "id": "2cd342ae",
        "outputId": "13e25c16-ef64-4b2b-9933-20c838a35649"
      },
      "outputs": [
        {
          "output_type": "execute_result",
          "data": {
            "text/plain": [
              "                                             reviews  review_length  \\\n",
              "0  What!? I haven't left a review about this plac...            381   \n",
              "1  L'as du Falafel is located right by our apartm...            258   \n",
              "2  You will always find a long line leading up to...             58   \n",
              "3  I love this place!I never really paid attentio...             82   \n",
              "4  Ate fallafel on a No Diet Club food tour, and ...            119   \n",
              "\n",
              "   avg_word_length  stop_word_count  stop_word_rate  \\\n",
              "0         4.047244              176        0.461942   \n",
              "1         4.073643              136        0.527132   \n",
              "2         4.362069               29        0.500000   \n",
              "3         4.512195               41        0.500000   \n",
              "4         4.168067               57        0.478992   \n",
              "\n",
              "                                          stop_words  \\\n",
              "0  what left review place mean know ive busy stil...   \n",
              "1  las du falafel located right apartment decided...   \n",
              "2  always find long line leading familyowned midd...   \n",
              "3  love placei never really paid attention till p...   \n",
              "4  ate fallafel diet club food tour good went bac...   \n",
              "\n",
              "                                       clean_reviews  \n",
              "0  what left review mean know busy still somewher...  \n",
              "1  located right apartment decided give try two l...  \n",
              "2  always find long leading familyowned middle ea...  \n",
              "3  love placei never really paid attention till v...  \n",
              "4  ate diet club tour good went tour maybe two th...  "
            ],
            "text/html": [
              "\n",
              "  <div id=\"df-127a4bb4-e553-48e4-b7e4-c11d2166786f\">\n",
              "    <div class=\"colab-df-container\">\n",
              "      <div>\n",
              "<style scoped>\n",
              "    .dataframe tbody tr th:only-of-type {\n",
              "        vertical-align: middle;\n",
              "    }\n",
              "\n",
              "    .dataframe tbody tr th {\n",
              "        vertical-align: top;\n",
              "    }\n",
              "\n",
              "    .dataframe thead th {\n",
              "        text-align: right;\n",
              "    }\n",
              "</style>\n",
              "<table border=\"1\" class=\"dataframe\">\n",
              "  <thead>\n",
              "    <tr style=\"text-align: right;\">\n",
              "      <th></th>\n",
              "      <th>reviews</th>\n",
              "      <th>review_length</th>\n",
              "      <th>avg_word_length</th>\n",
              "      <th>stop_word_count</th>\n",
              "      <th>stop_word_rate</th>\n",
              "      <th>stop_words</th>\n",
              "      <th>clean_reviews</th>\n",
              "    </tr>\n",
              "  </thead>\n",
              "  <tbody>\n",
              "    <tr>\n",
              "      <th>0</th>\n",
              "      <td>What!? I haven't left a review about this plac...</td>\n",
              "      <td>381</td>\n",
              "      <td>4.047244</td>\n",
              "      <td>176</td>\n",
              "      <td>0.461942</td>\n",
              "      <td>what left review place mean know ive busy stil...</td>\n",
              "      <td>what left review mean know busy still somewher...</td>\n",
              "    </tr>\n",
              "    <tr>\n",
              "      <th>1</th>\n",
              "      <td>L'as du Falafel is located right by our apartm...</td>\n",
              "      <td>258</td>\n",
              "      <td>4.073643</td>\n",
              "      <td>136</td>\n",
              "      <td>0.527132</td>\n",
              "      <td>las du falafel located right apartment decided...</td>\n",
              "      <td>located right apartment decided give try two l...</td>\n",
              "    </tr>\n",
              "    <tr>\n",
              "      <th>2</th>\n",
              "      <td>You will always find a long line leading up to...</td>\n",
              "      <td>58</td>\n",
              "      <td>4.362069</td>\n",
              "      <td>29</td>\n",
              "      <td>0.500000</td>\n",
              "      <td>always find long line leading familyowned midd...</td>\n",
              "      <td>always find long leading familyowned middle ea...</td>\n",
              "    </tr>\n",
              "    <tr>\n",
              "      <th>3</th>\n",
              "      <td>I love this place!I never really paid attentio...</td>\n",
              "      <td>82</td>\n",
              "      <td>4.512195</td>\n",
              "      <td>41</td>\n",
              "      <td>0.500000</td>\n",
              "      <td>love placei never really paid attention till p...</td>\n",
              "      <td>love placei never really paid attention till v...</td>\n",
              "    </tr>\n",
              "    <tr>\n",
              "      <th>4</th>\n",
              "      <td>Ate fallafel on a No Diet Club food tour, and ...</td>\n",
              "      <td>119</td>\n",
              "      <td>4.168067</td>\n",
              "      <td>57</td>\n",
              "      <td>0.478992</td>\n",
              "      <td>ate fallafel diet club food tour good went bac...</td>\n",
              "      <td>ate diet club tour good went tour maybe two th...</td>\n",
              "    </tr>\n",
              "  </tbody>\n",
              "</table>\n",
              "</div>\n",
              "      <button class=\"colab-df-convert\" onclick=\"convertToInteractive('df-127a4bb4-e553-48e4-b7e4-c11d2166786f')\"\n",
              "              title=\"Convert this dataframe to an interactive table.\"\n",
              "              style=\"display:none;\">\n",
              "        \n",
              "  <svg xmlns=\"http://www.w3.org/2000/svg\" height=\"24px\"viewBox=\"0 0 24 24\"\n",
              "       width=\"24px\">\n",
              "    <path d=\"M0 0h24v24H0V0z\" fill=\"none\"/>\n",
              "    <path d=\"M18.56 5.44l.94 2.06.94-2.06 2.06-.94-2.06-.94-.94-2.06-.94 2.06-2.06.94zm-11 1L8.5 8.5l.94-2.06 2.06-.94-2.06-.94L8.5 2.5l-.94 2.06-2.06.94zm10 10l.94 2.06.94-2.06 2.06-.94-2.06-.94-.94-2.06-.94 2.06-2.06.94z\"/><path d=\"M17.41 7.96l-1.37-1.37c-.4-.4-.92-.59-1.43-.59-.52 0-1.04.2-1.43.59L10.3 9.45l-7.72 7.72c-.78.78-.78 2.05 0 2.83L4 21.41c.39.39.9.59 1.41.59.51 0 1.02-.2 1.41-.59l7.78-7.78 2.81-2.81c.8-.78.8-2.07 0-2.86zM5.41 20L4 18.59l7.72-7.72 1.47 1.35L5.41 20z\"/>\n",
              "  </svg>\n",
              "      </button>\n",
              "      \n",
              "  <style>\n",
              "    .colab-df-container {\n",
              "      display:flex;\n",
              "      flex-wrap:wrap;\n",
              "      gap: 12px;\n",
              "    }\n",
              "\n",
              "    .colab-df-convert {\n",
              "      background-color: #E8F0FE;\n",
              "      border: none;\n",
              "      border-radius: 50%;\n",
              "      cursor: pointer;\n",
              "      display: none;\n",
              "      fill: #1967D2;\n",
              "      height: 32px;\n",
              "      padding: 0 0 0 0;\n",
              "      width: 32px;\n",
              "    }\n",
              "\n",
              "    .colab-df-convert:hover {\n",
              "      background-color: #E2EBFA;\n",
              "      box-shadow: 0px 1px 2px rgba(60, 64, 67, 0.3), 0px 1px 3px 1px rgba(60, 64, 67, 0.15);\n",
              "      fill: #174EA6;\n",
              "    }\n",
              "\n",
              "    [theme=dark] .colab-df-convert {\n",
              "      background-color: #3B4455;\n",
              "      fill: #D2E3FC;\n",
              "    }\n",
              "\n",
              "    [theme=dark] .colab-df-convert:hover {\n",
              "      background-color: #434B5C;\n",
              "      box-shadow: 0px 1px 3px 1px rgba(0, 0, 0, 0.15);\n",
              "      filter: drop-shadow(0px 1px 2px rgba(0, 0, 0, 0.3));\n",
              "      fill: #FFFFFF;\n",
              "    }\n",
              "  </style>\n",
              "\n",
              "      <script>\n",
              "        const buttonEl =\n",
              "          document.querySelector('#df-127a4bb4-e553-48e4-b7e4-c11d2166786f button.colab-df-convert');\n",
              "        buttonEl.style.display =\n",
              "          google.colab.kernel.accessAllowed ? 'block' : 'none';\n",
              "\n",
              "        async function convertToInteractive(key) {\n",
              "          const element = document.querySelector('#df-127a4bb4-e553-48e4-b7e4-c11d2166786f');\n",
              "          const dataTable =\n",
              "            await google.colab.kernel.invokeFunction('convertToInteractive',\n",
              "                                                     [key], {});\n",
              "          if (!dataTable) return;\n",
              "\n",
              "          const docLinkHtml = 'Like what you see? Visit the ' +\n",
              "            '<a target=\"_blank\" href=https://colab.research.google.com/notebooks/data_table.ipynb>data table notebook</a>'\n",
              "            + ' to learn more about interactive tables.';\n",
              "          element.innerHTML = '';\n",
              "          dataTable['output_type'] = 'display_data';\n",
              "          await google.colab.output.renderOutput(dataTable, element);\n",
              "          const docLink = document.createElement('div');\n",
              "          docLink.innerHTML = docLinkHtml;\n",
              "          element.appendChild(docLink);\n",
              "        }\n",
              "      </script>\n",
              "    </div>\n",
              "  </div>\n",
              "  "
            ]
          },
          "metadata": {},
          "execution_count": 34
        }
      ],
      "source": [
        "df.head()"
      ]
    },
    {
      "cell_type": "markdown",
      "id": "3f90281b",
      "metadata": {
        "id": "3f90281b"
      },
      "source": [
        "# Lemmatizing"
      ]
    },
    {
      "cell_type": "code",
      "execution_count": null,
      "id": "80fc95e0",
      "metadata": {
        "colab": {
          "base_uri": "https://localhost:8080/"
        },
        "id": "80fc95e0",
        "outputId": "a70b17b3-6581-4186-bc03-8b7f8c62f40f"
      },
      "outputs": [
        {
          "output_type": "stream",
          "name": "stdout",
          "text": [
            "Looking in indexes: https://pypi.org/simple, https://us-python.pkg.dev/colab-wheels/public/simple/\n",
            "Requirement already satisfied: textblob in /usr/local/lib/python3.8/dist-packages (0.15.3)\n",
            "Requirement already satisfied: nltk>=3.1 in /usr/local/lib/python3.8/dist-packages (from textblob) (3.7)\n",
            "Requirement already satisfied: joblib in /usr/local/lib/python3.8/dist-packages (from nltk>=3.1->textblob) (1.2.0)\n",
            "Requirement already satisfied: tqdm in /usr/local/lib/python3.8/dist-packages (from nltk>=3.1->textblob) (4.64.1)\n",
            "Requirement already satisfied: click in /usr/local/lib/python3.8/dist-packages (from nltk>=3.1->textblob) (7.1.2)\n",
            "Requirement already satisfied: regex>=2021.8.3 in /usr/local/lib/python3.8/dist-packages (from nltk>=3.1->textblob) (2022.6.2)\n"
          ]
        }
      ],
      "source": [
        "!pip install textblob"
      ]
    },
    {
      "cell_type": "code",
      "execution_count": null,
      "id": "815ec839",
      "metadata": {
        "id": "815ec839"
      },
      "outputs": [],
      "source": [
        "from textblob import Word"
      ]
    },
    {
      "cell_type": "code",
      "execution_count": null,
      "id": "1fe455e6",
      "metadata": {
        "colab": {
          "base_uri": "https://localhost:8080/"
        },
        "id": "1fe455e6",
        "outputId": "bf2146d1-0366-4570-8f14-fa4d4d97f9ce"
      },
      "outputs": [
        {
          "output_type": "stream",
          "name": "stderr",
          "text": [
            "[nltk_data] Downloading package punkt to /root/nltk_data...\n",
            "[nltk_data]   Unzipping tokenizers/punkt.zip.\n",
            "[nltk_data] Downloading package averaged_perceptron_tagger to\n",
            "[nltk_data]     /root/nltk_data...\n",
            "[nltk_data]   Unzipping taggers/averaged_perceptron_tagger.zip.\n",
            "[nltk_data] Downloading package wordnet to /root/nltk_data...\n"
          ]
        },
        {
          "output_type": "execute_result",
          "data": {
            "text/plain": [
              "True"
            ]
          },
          "metadata": {},
          "execution_count": 37
        }
      ],
      "source": [
        "import nltk\n",
        "nltk.download('punkt')\n",
        "nltk.download('averaged_perceptron_tagger')\n",
        "nltk.download('wordnet')"
      ]
    },
    {
      "cell_type": "code",
      "execution_count": null,
      "id": "3d33e7d9",
      "metadata": {
        "colab": {
          "base_uri": "https://localhost:8080/"
        },
        "id": "3d33e7d9",
        "outputId": "48624df0-c3d2-4060-ada7-da8d020370f9"
      },
      "outputs": [
        {
          "output_type": "stream",
          "name": "stderr",
          "text": [
            "[nltk_data] Downloading package omw-1.4 to /root/nltk_data...\n"
          ]
        },
        {
          "output_type": "execute_result",
          "data": {
            "text/plain": [
              "True"
            ]
          },
          "metadata": {},
          "execution_count": 38
        }
      ],
      "source": [
        "import nltk\n",
        "nltk.download('omw-1.4')"
      ]
    },
    {
      "cell_type": "code",
      "execution_count": null,
      "id": "66773e6a",
      "metadata": {
        "id": "66773e6a"
      },
      "outputs": [],
      "source": [
        "df['lemmatized']= df['clean_reviews'].apply(lambda x: \" \".join(Word(word).lemmatize() for word in x.split()))"
      ]
    },
    {
      "cell_type": "code",
      "execution_count": null,
      "id": "ed4a628d",
      "metadata": {
        "colab": {
          "base_uri": "https://localhost:8080/",
          "height": 337
        },
        "id": "ed4a628d",
        "outputId": "06c9d91f-cbcb-4117-fa96-9260d0d75084"
      },
      "outputs": [
        {
          "output_type": "execute_result",
          "data": {
            "text/plain": [
              "                                             reviews  review_length  \\\n",
              "0  What!? I haven't left a review about this plac...            381   \n",
              "1  L'as du Falafel is located right by our apartm...            258   \n",
              "2  You will always find a long line leading up to...             58   \n",
              "3  I love this place!I never really paid attentio...             82   \n",
              "4  Ate fallafel on a No Diet Club food tour, and ...            119   \n",
              "\n",
              "   avg_word_length  stop_word_count  stop_word_rate  \\\n",
              "0         4.047244              176        0.461942   \n",
              "1         4.073643              136        0.527132   \n",
              "2         4.362069               29        0.500000   \n",
              "3         4.512195               41        0.500000   \n",
              "4         4.168067               57        0.478992   \n",
              "\n",
              "                                          stop_words  \\\n",
              "0  what left review place mean know ive busy stil...   \n",
              "1  las du falafel located right apartment decided...   \n",
              "2  always find long line leading familyowned midd...   \n",
              "3  love placei never really paid attention till p...   \n",
              "4  ate fallafel diet club food tour good went bac...   \n",
              "\n",
              "                                       clean_reviews  \\\n",
              "0  what left review mean know busy still somewher...   \n",
              "1  located right apartment decided give try two l...   \n",
              "2  always find long leading familyowned middle ea...   \n",
              "3  love placei never really paid attention till v...   \n",
              "4  ate diet club tour good went tour maybe two th...   \n",
              "\n",
              "                                          lemmatized  \n",
              "0  what left review mean know busy still somewher...  \n",
              "1  located right apartment decided give try two l...  \n",
              "2  always find long leading familyowned middle ea...  \n",
              "3  love placei never really paid attention till v...  \n",
              "4  ate diet club tour good went tour maybe two th...  "
            ],
            "text/html": [
              "\n",
              "  <div id=\"df-a1c7d30c-e779-4d73-9737-cee003fe7ddc\">\n",
              "    <div class=\"colab-df-container\">\n",
              "      <div>\n",
              "<style scoped>\n",
              "    .dataframe tbody tr th:only-of-type {\n",
              "        vertical-align: middle;\n",
              "    }\n",
              "\n",
              "    .dataframe tbody tr th {\n",
              "        vertical-align: top;\n",
              "    }\n",
              "\n",
              "    .dataframe thead th {\n",
              "        text-align: right;\n",
              "    }\n",
              "</style>\n",
              "<table border=\"1\" class=\"dataframe\">\n",
              "  <thead>\n",
              "    <tr style=\"text-align: right;\">\n",
              "      <th></th>\n",
              "      <th>reviews</th>\n",
              "      <th>review_length</th>\n",
              "      <th>avg_word_length</th>\n",
              "      <th>stop_word_count</th>\n",
              "      <th>stop_word_rate</th>\n",
              "      <th>stop_words</th>\n",
              "      <th>clean_reviews</th>\n",
              "      <th>lemmatized</th>\n",
              "    </tr>\n",
              "  </thead>\n",
              "  <tbody>\n",
              "    <tr>\n",
              "      <th>0</th>\n",
              "      <td>What!? I haven't left a review about this plac...</td>\n",
              "      <td>381</td>\n",
              "      <td>4.047244</td>\n",
              "      <td>176</td>\n",
              "      <td>0.461942</td>\n",
              "      <td>what left review place mean know ive busy stil...</td>\n",
              "      <td>what left review mean know busy still somewher...</td>\n",
              "      <td>what left review mean know busy still somewher...</td>\n",
              "    </tr>\n",
              "    <tr>\n",
              "      <th>1</th>\n",
              "      <td>L'as du Falafel is located right by our apartm...</td>\n",
              "      <td>258</td>\n",
              "      <td>4.073643</td>\n",
              "      <td>136</td>\n",
              "      <td>0.527132</td>\n",
              "      <td>las du falafel located right apartment decided...</td>\n",
              "      <td>located right apartment decided give try two l...</td>\n",
              "      <td>located right apartment decided give try two l...</td>\n",
              "    </tr>\n",
              "    <tr>\n",
              "      <th>2</th>\n",
              "      <td>You will always find a long line leading up to...</td>\n",
              "      <td>58</td>\n",
              "      <td>4.362069</td>\n",
              "      <td>29</td>\n",
              "      <td>0.500000</td>\n",
              "      <td>always find long line leading familyowned midd...</td>\n",
              "      <td>always find long leading familyowned middle ea...</td>\n",
              "      <td>always find long leading familyowned middle ea...</td>\n",
              "    </tr>\n",
              "    <tr>\n",
              "      <th>3</th>\n",
              "      <td>I love this place!I never really paid attentio...</td>\n",
              "      <td>82</td>\n",
              "      <td>4.512195</td>\n",
              "      <td>41</td>\n",
              "      <td>0.500000</td>\n",
              "      <td>love placei never really paid attention till p...</td>\n",
              "      <td>love placei never really paid attention till v...</td>\n",
              "      <td>love placei never really paid attention till v...</td>\n",
              "    </tr>\n",
              "    <tr>\n",
              "      <th>4</th>\n",
              "      <td>Ate fallafel on a No Diet Club food tour, and ...</td>\n",
              "      <td>119</td>\n",
              "      <td>4.168067</td>\n",
              "      <td>57</td>\n",
              "      <td>0.478992</td>\n",
              "      <td>ate fallafel diet club food tour good went bac...</td>\n",
              "      <td>ate diet club tour good went tour maybe two th...</td>\n",
              "      <td>ate diet club tour good went tour maybe two th...</td>\n",
              "    </tr>\n",
              "  </tbody>\n",
              "</table>\n",
              "</div>\n",
              "      <button class=\"colab-df-convert\" onclick=\"convertToInteractive('df-a1c7d30c-e779-4d73-9737-cee003fe7ddc')\"\n",
              "              title=\"Convert this dataframe to an interactive table.\"\n",
              "              style=\"display:none;\">\n",
              "        \n",
              "  <svg xmlns=\"http://www.w3.org/2000/svg\" height=\"24px\"viewBox=\"0 0 24 24\"\n",
              "       width=\"24px\">\n",
              "    <path d=\"M0 0h24v24H0V0z\" fill=\"none\"/>\n",
              "    <path d=\"M18.56 5.44l.94 2.06.94-2.06 2.06-.94-2.06-.94-.94-2.06-.94 2.06-2.06.94zm-11 1L8.5 8.5l.94-2.06 2.06-.94-2.06-.94L8.5 2.5l-.94 2.06-2.06.94zm10 10l.94 2.06.94-2.06 2.06-.94-2.06-.94-.94-2.06-.94 2.06-2.06.94z\"/><path d=\"M17.41 7.96l-1.37-1.37c-.4-.4-.92-.59-1.43-.59-.52 0-1.04.2-1.43.59L10.3 9.45l-7.72 7.72c-.78.78-.78 2.05 0 2.83L4 21.41c.39.39.9.59 1.41.59.51 0 1.02-.2 1.41-.59l7.78-7.78 2.81-2.81c.8-.78.8-2.07 0-2.86zM5.41 20L4 18.59l7.72-7.72 1.47 1.35L5.41 20z\"/>\n",
              "  </svg>\n",
              "      </button>\n",
              "      \n",
              "  <style>\n",
              "    .colab-df-container {\n",
              "      display:flex;\n",
              "      flex-wrap:wrap;\n",
              "      gap: 12px;\n",
              "    }\n",
              "\n",
              "    .colab-df-convert {\n",
              "      background-color: #E8F0FE;\n",
              "      border: none;\n",
              "      border-radius: 50%;\n",
              "      cursor: pointer;\n",
              "      display: none;\n",
              "      fill: #1967D2;\n",
              "      height: 32px;\n",
              "      padding: 0 0 0 0;\n",
              "      width: 32px;\n",
              "    }\n",
              "\n",
              "    .colab-df-convert:hover {\n",
              "      background-color: #E2EBFA;\n",
              "      box-shadow: 0px 1px 2px rgba(60, 64, 67, 0.3), 0px 1px 3px 1px rgba(60, 64, 67, 0.15);\n",
              "      fill: #174EA6;\n",
              "    }\n",
              "\n",
              "    [theme=dark] .colab-df-convert {\n",
              "      background-color: #3B4455;\n",
              "      fill: #D2E3FC;\n",
              "    }\n",
              "\n",
              "    [theme=dark] .colab-df-convert:hover {\n",
              "      background-color: #434B5C;\n",
              "      box-shadow: 0px 1px 3px 1px rgba(0, 0, 0, 0.15);\n",
              "      filter: drop-shadow(0px 1px 2px rgba(0, 0, 0, 0.3));\n",
              "      fill: #FFFFFF;\n",
              "    }\n",
              "  </style>\n",
              "\n",
              "      <script>\n",
              "        const buttonEl =\n",
              "          document.querySelector('#df-a1c7d30c-e779-4d73-9737-cee003fe7ddc button.colab-df-convert');\n",
              "        buttonEl.style.display =\n",
              "          google.colab.kernel.accessAllowed ? 'block' : 'none';\n",
              "\n",
              "        async function convertToInteractive(key) {\n",
              "          const element = document.querySelector('#df-a1c7d30c-e779-4d73-9737-cee003fe7ddc');\n",
              "          const dataTable =\n",
              "            await google.colab.kernel.invokeFunction('convertToInteractive',\n",
              "                                                     [key], {});\n",
              "          if (!dataTable) return;\n",
              "\n",
              "          const docLinkHtml = 'Like what you see? Visit the ' +\n",
              "            '<a target=\"_blank\" href=https://colab.research.google.com/notebooks/data_table.ipynb>data table notebook</a>'\n",
              "            + ' to learn more about interactive tables.';\n",
              "          element.innerHTML = '';\n",
              "          dataTable['output_type'] = 'display_data';\n",
              "          await google.colab.output.renderOutput(dataTable, element);\n",
              "          const docLink = document.createElement('div');\n",
              "          docLink.innerHTML = docLinkHtml;\n",
              "          element.appendChild(docLink);\n",
              "        }\n",
              "      </script>\n",
              "    </div>\n",
              "  </div>\n",
              "  "
            ]
          },
          "metadata": {},
          "execution_count": 40
        }
      ],
      "source": [
        "df.head()"
      ]
    },
    {
      "cell_type": "code",
      "execution_count": null,
      "id": "7bd92afe",
      "metadata": {
        "id": "7bd92afe"
      },
      "outputs": [],
      "source": [
        "df['clean_review_word_count'] = df['clean_reviews'].apply(lambda x: len(x.split()))"
      ]
    },
    {
      "cell_type": "code",
      "execution_count": null,
      "id": "19aae544",
      "metadata": {
        "id": "19aae544"
      },
      "outputs": [],
      "source": [
        "df['clean_review_word_rate'] = df['clean_review_word_count'] / df['review_length']"
      ]
    },
    {
      "cell_type": "code",
      "execution_count": null,
      "id": "7a01563d",
      "metadata": {
        "colab": {
          "base_uri": "https://localhost:8080/",
          "height": 510
        },
        "id": "7a01563d",
        "outputId": "3852469d-f13b-4f69-ab41-8d4e2fae4ff2"
      },
      "outputs": [
        {
          "output_type": "execute_result",
          "data": {
            "text/plain": [
              "                                             reviews  review_length  \\\n",
              "0  What!? I haven't left a review about this plac...            381   \n",
              "1  L'as du Falafel is located right by our apartm...            258   \n",
              "2  You will always find a long line leading up to...             58   \n",
              "3  I love this place!I never really paid attentio...             82   \n",
              "4  Ate fallafel on a No Diet Club food tour, and ...            119   \n",
              "\n",
              "   avg_word_length  stop_word_count  stop_word_rate  \\\n",
              "0         4.047244              176        0.461942   \n",
              "1         4.073643              136        0.527132   \n",
              "2         4.362069               29        0.500000   \n",
              "3         4.512195               41        0.500000   \n",
              "4         4.168067               57        0.478992   \n",
              "\n",
              "                                          stop_words  \\\n",
              "0  what left review place mean know ive busy stil...   \n",
              "1  las du falafel located right apartment decided...   \n",
              "2  always find long line leading familyowned midd...   \n",
              "3  love placei never really paid attention till p...   \n",
              "4  ate fallafel diet club food tour good went bac...   \n",
              "\n",
              "                                       clean_reviews  \\\n",
              "0  what left review mean know busy still somewher...   \n",
              "1  located right apartment decided give try two l...   \n",
              "2  always find long leading familyowned middle ea...   \n",
              "3  love placei never really paid attention till v...   \n",
              "4  ate diet club tour good went tour maybe two th...   \n",
              "\n",
              "                                          lemmatized  clean_review_word_count  \\\n",
              "0  what left review mean know busy still somewher...                      167   \n",
              "1  located right apartment decided give try two l...                       90   \n",
              "2  always find long leading familyowned middle ea...                       24   \n",
              "3  love placei never really paid attention till v...                       34   \n",
              "4  ate diet club tour good went tour maybe two th...                       48   \n",
              "\n",
              "   clean_review_word_rate  \n",
              "0                0.438320  \n",
              "1                0.348837  \n",
              "2                0.413793  \n",
              "3                0.414634  \n",
              "4                0.403361  "
            ],
            "text/html": [
              "\n",
              "  <div id=\"df-b0735ed0-7757-4575-be70-daf7cb6b3fca\">\n",
              "    <div class=\"colab-df-container\">\n",
              "      <div>\n",
              "<style scoped>\n",
              "    .dataframe tbody tr th:only-of-type {\n",
              "        vertical-align: middle;\n",
              "    }\n",
              "\n",
              "    .dataframe tbody tr th {\n",
              "        vertical-align: top;\n",
              "    }\n",
              "\n",
              "    .dataframe thead th {\n",
              "        text-align: right;\n",
              "    }\n",
              "</style>\n",
              "<table border=\"1\" class=\"dataframe\">\n",
              "  <thead>\n",
              "    <tr style=\"text-align: right;\">\n",
              "      <th></th>\n",
              "      <th>reviews</th>\n",
              "      <th>review_length</th>\n",
              "      <th>avg_word_length</th>\n",
              "      <th>stop_word_count</th>\n",
              "      <th>stop_word_rate</th>\n",
              "      <th>stop_words</th>\n",
              "      <th>clean_reviews</th>\n",
              "      <th>lemmatized</th>\n",
              "      <th>clean_review_word_count</th>\n",
              "      <th>clean_review_word_rate</th>\n",
              "    </tr>\n",
              "  </thead>\n",
              "  <tbody>\n",
              "    <tr>\n",
              "      <th>0</th>\n",
              "      <td>What!? I haven't left a review about this plac...</td>\n",
              "      <td>381</td>\n",
              "      <td>4.047244</td>\n",
              "      <td>176</td>\n",
              "      <td>0.461942</td>\n",
              "      <td>what left review place mean know ive busy stil...</td>\n",
              "      <td>what left review mean know busy still somewher...</td>\n",
              "      <td>what left review mean know busy still somewher...</td>\n",
              "      <td>167</td>\n",
              "      <td>0.438320</td>\n",
              "    </tr>\n",
              "    <tr>\n",
              "      <th>1</th>\n",
              "      <td>L'as du Falafel is located right by our apartm...</td>\n",
              "      <td>258</td>\n",
              "      <td>4.073643</td>\n",
              "      <td>136</td>\n",
              "      <td>0.527132</td>\n",
              "      <td>las du falafel located right apartment decided...</td>\n",
              "      <td>located right apartment decided give try two l...</td>\n",
              "      <td>located right apartment decided give try two l...</td>\n",
              "      <td>90</td>\n",
              "      <td>0.348837</td>\n",
              "    </tr>\n",
              "    <tr>\n",
              "      <th>2</th>\n",
              "      <td>You will always find a long line leading up to...</td>\n",
              "      <td>58</td>\n",
              "      <td>4.362069</td>\n",
              "      <td>29</td>\n",
              "      <td>0.500000</td>\n",
              "      <td>always find long line leading familyowned midd...</td>\n",
              "      <td>always find long leading familyowned middle ea...</td>\n",
              "      <td>always find long leading familyowned middle ea...</td>\n",
              "      <td>24</td>\n",
              "      <td>0.413793</td>\n",
              "    </tr>\n",
              "    <tr>\n",
              "      <th>3</th>\n",
              "      <td>I love this place!I never really paid attentio...</td>\n",
              "      <td>82</td>\n",
              "      <td>4.512195</td>\n",
              "      <td>41</td>\n",
              "      <td>0.500000</td>\n",
              "      <td>love placei never really paid attention till p...</td>\n",
              "      <td>love placei never really paid attention till v...</td>\n",
              "      <td>love placei never really paid attention till v...</td>\n",
              "      <td>34</td>\n",
              "      <td>0.414634</td>\n",
              "    </tr>\n",
              "    <tr>\n",
              "      <th>4</th>\n",
              "      <td>Ate fallafel on a No Diet Club food tour, and ...</td>\n",
              "      <td>119</td>\n",
              "      <td>4.168067</td>\n",
              "      <td>57</td>\n",
              "      <td>0.478992</td>\n",
              "      <td>ate fallafel diet club food tour good went bac...</td>\n",
              "      <td>ate diet club tour good went tour maybe two th...</td>\n",
              "      <td>ate diet club tour good went tour maybe two th...</td>\n",
              "      <td>48</td>\n",
              "      <td>0.403361</td>\n",
              "    </tr>\n",
              "  </tbody>\n",
              "</table>\n",
              "</div>\n",
              "      <button class=\"colab-df-convert\" onclick=\"convertToInteractive('df-b0735ed0-7757-4575-be70-daf7cb6b3fca')\"\n",
              "              title=\"Convert this dataframe to an interactive table.\"\n",
              "              style=\"display:none;\">\n",
              "        \n",
              "  <svg xmlns=\"http://www.w3.org/2000/svg\" height=\"24px\"viewBox=\"0 0 24 24\"\n",
              "       width=\"24px\">\n",
              "    <path d=\"M0 0h24v24H0V0z\" fill=\"none\"/>\n",
              "    <path d=\"M18.56 5.44l.94 2.06.94-2.06 2.06-.94-2.06-.94-.94-2.06-.94 2.06-2.06.94zm-11 1L8.5 8.5l.94-2.06 2.06-.94-2.06-.94L8.5 2.5l-.94 2.06-2.06.94zm10 10l.94 2.06.94-2.06 2.06-.94-2.06-.94-.94-2.06-.94 2.06-2.06.94z\"/><path d=\"M17.41 7.96l-1.37-1.37c-.4-.4-.92-.59-1.43-.59-.52 0-1.04.2-1.43.59L10.3 9.45l-7.72 7.72c-.78.78-.78 2.05 0 2.83L4 21.41c.39.39.9.59 1.41.59.51 0 1.02-.2 1.41-.59l7.78-7.78 2.81-2.81c.8-.78.8-2.07 0-2.86zM5.41 20L4 18.59l7.72-7.72 1.47 1.35L5.41 20z\"/>\n",
              "  </svg>\n",
              "      </button>\n",
              "      \n",
              "  <style>\n",
              "    .colab-df-container {\n",
              "      display:flex;\n",
              "      flex-wrap:wrap;\n",
              "      gap: 12px;\n",
              "    }\n",
              "\n",
              "    .colab-df-convert {\n",
              "      background-color: #E8F0FE;\n",
              "      border: none;\n",
              "      border-radius: 50%;\n",
              "      cursor: pointer;\n",
              "      display: none;\n",
              "      fill: #1967D2;\n",
              "      height: 32px;\n",
              "      padding: 0 0 0 0;\n",
              "      width: 32px;\n",
              "    }\n",
              "\n",
              "    .colab-df-convert:hover {\n",
              "      background-color: #E2EBFA;\n",
              "      box-shadow: 0px 1px 2px rgba(60, 64, 67, 0.3), 0px 1px 3px 1px rgba(60, 64, 67, 0.15);\n",
              "      fill: #174EA6;\n",
              "    }\n",
              "\n",
              "    [theme=dark] .colab-df-convert {\n",
              "      background-color: #3B4455;\n",
              "      fill: #D2E3FC;\n",
              "    }\n",
              "\n",
              "    [theme=dark] .colab-df-convert:hover {\n",
              "      background-color: #434B5C;\n",
              "      box-shadow: 0px 1px 3px 1px rgba(0, 0, 0, 0.15);\n",
              "      filter: drop-shadow(0px 1px 2px rgba(0, 0, 0, 0.3));\n",
              "      fill: #FFFFFF;\n",
              "    }\n",
              "  </style>\n",
              "\n",
              "      <script>\n",
              "        const buttonEl =\n",
              "          document.querySelector('#df-b0735ed0-7757-4575-be70-daf7cb6b3fca button.colab-df-convert');\n",
              "        buttonEl.style.display =\n",
              "          google.colab.kernel.accessAllowed ? 'block' : 'none';\n",
              "\n",
              "        async function convertToInteractive(key) {\n",
              "          const element = document.querySelector('#df-b0735ed0-7757-4575-be70-daf7cb6b3fca');\n",
              "          const dataTable =\n",
              "            await google.colab.kernel.invokeFunction('convertToInteractive',\n",
              "                                                     [key], {});\n",
              "          if (!dataTable) return;\n",
              "\n",
              "          const docLinkHtml = 'Like what you see? Visit the ' +\n",
              "            '<a target=\"_blank\" href=https://colab.research.google.com/notebooks/data_table.ipynb>data table notebook</a>'\n",
              "            + ' to learn more about interactive tables.';\n",
              "          element.innerHTML = '';\n",
              "          dataTable['output_type'] = 'display_data';\n",
              "          await google.colab.output.renderOutput(dataTable, element);\n",
              "          const docLink = document.createElement('div');\n",
              "          docLink.innerHTML = docLinkHtml;\n",
              "          element.appendChild(docLink);\n",
              "        }\n",
              "      </script>\n",
              "    </div>\n",
              "  </div>\n",
              "  "
            ]
          },
          "metadata": {},
          "execution_count": 43
        }
      ],
      "source": [
        "df.head()"
      ]
    },
    {
      "cell_type": "markdown",
      "id": "7021bb6e",
      "metadata": {
        "id": "7021bb6e"
      },
      "source": [
        "# Sentiment Analysis"
      ]
    },
    {
      "cell_type": "code",
      "execution_count": null,
      "id": "348abeb7",
      "metadata": {
        "id": "348abeb7"
      },
      "outputs": [],
      "source": [
        "from textblob import TextBlob"
      ]
    },
    {
      "cell_type": "markdown",
      "id": "31bca3ae",
      "metadata": {
        "id": "31bca3ae"
      },
      "source": [
        "#### We get a polarity metric and subjectivity metrix. Polarity metric tells us how positive or negative a sentence is ( Ranging from -1 to +1 )"
      ]
    },
    {
      "cell_type": "code",
      "execution_count": null,
      "id": "fe0a41af",
      "metadata": {
        "id": "fe0a41af"
      },
      "outputs": [],
      "source": [
        "df['polarity'] = df['lemmatized'].apply( lambda x: TextBlob(x).sentiment[0])"
      ]
    },
    {
      "cell_type": "code",
      "execution_count": null,
      "id": "2a969969",
      "metadata": {
        "id": "2a969969"
      },
      "outputs": [],
      "source": [
        "df['subjectivity'] = df['lemmatized'].apply( lambda x: TextBlob(x).sentiment[1])"
      ]
    },
    {
      "cell_type": "code",
      "execution_count": null,
      "id": "3b97f5c7",
      "metadata": {
        "colab": {
          "base_uri": "https://localhost:8080/",
          "height": 300
        },
        "id": "3b97f5c7",
        "outputId": "49ef8237-458c-431e-abd6-03423eb69425"
      },
      "outputs": [
        {
          "output_type": "execute_result",
          "data": {
            "text/plain": [
              "       review_length  avg_word_length  stop_word_count  stop_word_rate  \\\n",
              "count     504.000000       504.000000       504.000000      504.000000   \n",
              "mean      102.916667         4.420706        48.720238        0.463312   \n",
              "std        78.639582         0.334692        38.431617        0.063820   \n",
              "min        13.000000         3.644444         0.000000        0.000000   \n",
              "25%        49.000000         4.197449        22.000000        0.434578   \n",
              "50%        79.000000         4.374167        38.000000        0.472222   \n",
              "75%       139.000000         4.617468        65.000000        0.500000   \n",
              "max       671.000000         6.142857       313.000000        0.614286   \n",
              "\n",
              "       clean_review_word_count  clean_review_word_rate    polarity  \\\n",
              "count               504.000000              504.000000  504.000000   \n",
              "mean                 44.039683                0.433282    0.303083   \n",
              "std                  34.249964                0.065080    0.153308   \n",
              "min                   6.000000                0.257143   -0.288889   \n",
              "25%                  21.000000                0.393892    0.196650   \n",
              "50%                  34.000000                0.428026    0.293498   \n",
              "75%                  59.250000                0.470757    0.394792   \n",
              "max                 311.000000                0.907407    0.950000   \n",
              "\n",
              "       subjectivity  \n",
              "count    504.000000  \n",
              "mean       0.552315  \n",
              "std        0.118315  \n",
              "min        0.218750  \n",
              "25%        0.472917  \n",
              "50%        0.557407  \n",
              "75%        0.631239  \n",
              "max        1.000000  "
            ],
            "text/html": [
              "\n",
              "  <div id=\"df-241eed19-c8c4-4e36-b8c4-d891f78f4c75\">\n",
              "    <div class=\"colab-df-container\">\n",
              "      <div>\n",
              "<style scoped>\n",
              "    .dataframe tbody tr th:only-of-type {\n",
              "        vertical-align: middle;\n",
              "    }\n",
              "\n",
              "    .dataframe tbody tr th {\n",
              "        vertical-align: top;\n",
              "    }\n",
              "\n",
              "    .dataframe thead th {\n",
              "        text-align: right;\n",
              "    }\n",
              "</style>\n",
              "<table border=\"1\" class=\"dataframe\">\n",
              "  <thead>\n",
              "    <tr style=\"text-align: right;\">\n",
              "      <th></th>\n",
              "      <th>review_length</th>\n",
              "      <th>avg_word_length</th>\n",
              "      <th>stop_word_count</th>\n",
              "      <th>stop_word_rate</th>\n",
              "      <th>clean_review_word_count</th>\n",
              "      <th>clean_review_word_rate</th>\n",
              "      <th>polarity</th>\n",
              "      <th>subjectivity</th>\n",
              "    </tr>\n",
              "  </thead>\n",
              "  <tbody>\n",
              "    <tr>\n",
              "      <th>count</th>\n",
              "      <td>504.000000</td>\n",
              "      <td>504.000000</td>\n",
              "      <td>504.000000</td>\n",
              "      <td>504.000000</td>\n",
              "      <td>504.000000</td>\n",
              "      <td>504.000000</td>\n",
              "      <td>504.000000</td>\n",
              "      <td>504.000000</td>\n",
              "    </tr>\n",
              "    <tr>\n",
              "      <th>mean</th>\n",
              "      <td>102.916667</td>\n",
              "      <td>4.420706</td>\n",
              "      <td>48.720238</td>\n",
              "      <td>0.463312</td>\n",
              "      <td>44.039683</td>\n",
              "      <td>0.433282</td>\n",
              "      <td>0.303083</td>\n",
              "      <td>0.552315</td>\n",
              "    </tr>\n",
              "    <tr>\n",
              "      <th>std</th>\n",
              "      <td>78.639582</td>\n",
              "      <td>0.334692</td>\n",
              "      <td>38.431617</td>\n",
              "      <td>0.063820</td>\n",
              "      <td>34.249964</td>\n",
              "      <td>0.065080</td>\n",
              "      <td>0.153308</td>\n",
              "      <td>0.118315</td>\n",
              "    </tr>\n",
              "    <tr>\n",
              "      <th>min</th>\n",
              "      <td>13.000000</td>\n",
              "      <td>3.644444</td>\n",
              "      <td>0.000000</td>\n",
              "      <td>0.000000</td>\n",
              "      <td>6.000000</td>\n",
              "      <td>0.257143</td>\n",
              "      <td>-0.288889</td>\n",
              "      <td>0.218750</td>\n",
              "    </tr>\n",
              "    <tr>\n",
              "      <th>25%</th>\n",
              "      <td>49.000000</td>\n",
              "      <td>4.197449</td>\n",
              "      <td>22.000000</td>\n",
              "      <td>0.434578</td>\n",
              "      <td>21.000000</td>\n",
              "      <td>0.393892</td>\n",
              "      <td>0.196650</td>\n",
              "      <td>0.472917</td>\n",
              "    </tr>\n",
              "    <tr>\n",
              "      <th>50%</th>\n",
              "      <td>79.000000</td>\n",
              "      <td>4.374167</td>\n",
              "      <td>38.000000</td>\n",
              "      <td>0.472222</td>\n",
              "      <td>34.000000</td>\n",
              "      <td>0.428026</td>\n",
              "      <td>0.293498</td>\n",
              "      <td>0.557407</td>\n",
              "    </tr>\n",
              "    <tr>\n",
              "      <th>75%</th>\n",
              "      <td>139.000000</td>\n",
              "      <td>4.617468</td>\n",
              "      <td>65.000000</td>\n",
              "      <td>0.500000</td>\n",
              "      <td>59.250000</td>\n",
              "      <td>0.470757</td>\n",
              "      <td>0.394792</td>\n",
              "      <td>0.631239</td>\n",
              "    </tr>\n",
              "    <tr>\n",
              "      <th>max</th>\n",
              "      <td>671.000000</td>\n",
              "      <td>6.142857</td>\n",
              "      <td>313.000000</td>\n",
              "      <td>0.614286</td>\n",
              "      <td>311.000000</td>\n",
              "      <td>0.907407</td>\n",
              "      <td>0.950000</td>\n",
              "      <td>1.000000</td>\n",
              "    </tr>\n",
              "  </tbody>\n",
              "</table>\n",
              "</div>\n",
              "      <button class=\"colab-df-convert\" onclick=\"convertToInteractive('df-241eed19-c8c4-4e36-b8c4-d891f78f4c75')\"\n",
              "              title=\"Convert this dataframe to an interactive table.\"\n",
              "              style=\"display:none;\">\n",
              "        \n",
              "  <svg xmlns=\"http://www.w3.org/2000/svg\" height=\"24px\"viewBox=\"0 0 24 24\"\n",
              "       width=\"24px\">\n",
              "    <path d=\"M0 0h24v24H0V0z\" fill=\"none\"/>\n",
              "    <path d=\"M18.56 5.44l.94 2.06.94-2.06 2.06-.94-2.06-.94-.94-2.06-.94 2.06-2.06.94zm-11 1L8.5 8.5l.94-2.06 2.06-.94-2.06-.94L8.5 2.5l-.94 2.06-2.06.94zm10 10l.94 2.06.94-2.06 2.06-.94-2.06-.94-.94-2.06-.94 2.06-2.06.94z\"/><path d=\"M17.41 7.96l-1.37-1.37c-.4-.4-.92-.59-1.43-.59-.52 0-1.04.2-1.43.59L10.3 9.45l-7.72 7.72c-.78.78-.78 2.05 0 2.83L4 21.41c.39.39.9.59 1.41.59.51 0 1.02-.2 1.41-.59l7.78-7.78 2.81-2.81c.8-.78.8-2.07 0-2.86zM5.41 20L4 18.59l7.72-7.72 1.47 1.35L5.41 20z\"/>\n",
              "  </svg>\n",
              "      </button>\n",
              "      \n",
              "  <style>\n",
              "    .colab-df-container {\n",
              "      display:flex;\n",
              "      flex-wrap:wrap;\n",
              "      gap: 12px;\n",
              "    }\n",
              "\n",
              "    .colab-df-convert {\n",
              "      background-color: #E8F0FE;\n",
              "      border: none;\n",
              "      border-radius: 50%;\n",
              "      cursor: pointer;\n",
              "      display: none;\n",
              "      fill: #1967D2;\n",
              "      height: 32px;\n",
              "      padding: 0 0 0 0;\n",
              "      width: 32px;\n",
              "    }\n",
              "\n",
              "    .colab-df-convert:hover {\n",
              "      background-color: #E2EBFA;\n",
              "      box-shadow: 0px 1px 2px rgba(60, 64, 67, 0.3), 0px 1px 3px 1px rgba(60, 64, 67, 0.15);\n",
              "      fill: #174EA6;\n",
              "    }\n",
              "\n",
              "    [theme=dark] .colab-df-convert {\n",
              "      background-color: #3B4455;\n",
              "      fill: #D2E3FC;\n",
              "    }\n",
              "\n",
              "    [theme=dark] .colab-df-convert:hover {\n",
              "      background-color: #434B5C;\n",
              "      box-shadow: 0px 1px 3px 1px rgba(0, 0, 0, 0.15);\n",
              "      filter: drop-shadow(0px 1px 2px rgba(0, 0, 0, 0.3));\n",
              "      fill: #FFFFFF;\n",
              "    }\n",
              "  </style>\n",
              "\n",
              "      <script>\n",
              "        const buttonEl =\n",
              "          document.querySelector('#df-241eed19-c8c4-4e36-b8c4-d891f78f4c75 button.colab-df-convert');\n",
              "        buttonEl.style.display =\n",
              "          google.colab.kernel.accessAllowed ? 'block' : 'none';\n",
              "\n",
              "        async function convertToInteractive(key) {\n",
              "          const element = document.querySelector('#df-241eed19-c8c4-4e36-b8c4-d891f78f4c75');\n",
              "          const dataTable =\n",
              "            await google.colab.kernel.invokeFunction('convertToInteractive',\n",
              "                                                     [key], {});\n",
              "          if (!dataTable) return;\n",
              "\n",
              "          const docLinkHtml = 'Like what you see? Visit the ' +\n",
              "            '<a target=\"_blank\" href=https://colab.research.google.com/notebooks/data_table.ipynb>data table notebook</a>'\n",
              "            + ' to learn more about interactive tables.';\n",
              "          element.innerHTML = '';\n",
              "          dataTable['output_type'] = 'display_data';\n",
              "          await google.colab.output.renderOutput(dataTable, element);\n",
              "          const docLink = document.createElement('div');\n",
              "          docLink.innerHTML = docLinkHtml;\n",
              "          element.appendChild(docLink);\n",
              "        }\n",
              "      </script>\n",
              "    </div>\n",
              "  </div>\n",
              "  "
            ]
          },
          "metadata": {},
          "execution_count": 47
        }
      ],
      "source": [
        "df.describe()"
      ]
    },
    {
      "cell_type": "markdown",
      "id": "220da4e8",
      "metadata": {
        "id": "220da4e8"
      },
      "source": [
        "##### We can see that the average polarity is 0.321 which is +ve, so on a whole this business is receiving +ve reviews, also the subjectivity is high, which means each review is very subjective to the person writing, which is expected when we are dealing with reviews"
      ]
    },
    {
      "cell_type": "code",
      "execution_count": null,
      "id": "0bd24b78",
      "metadata": {
        "id": "0bd24b78"
      },
      "outputs": [],
      "source": [
        "data_sentiment_analysis = df.drop(['stop_words','clean_reviews','lemmatized'] , axis =1 )"
      ]
    },
    {
      "cell_type": "code",
      "execution_count": null,
      "id": "b187a0b2",
      "metadata": {
        "colab": {
          "base_uri": "https://localhost:8080/",
          "height": 250
        },
        "id": "b187a0b2",
        "outputId": "773d76d6-3548-4678-b178-30220729fa83"
      },
      "outputs": [
        {
          "output_type": "execute_result",
          "data": {
            "text/plain": [
              "                                             reviews  review_length  \\\n",
              "0  What!? I haven't left a review about this plac...            381   \n",
              "1  L'as du Falafel is located right by our apartm...            258   \n",
              "2  You will always find a long line leading up to...             58   \n",
              "3  I love this place!I never really paid attentio...             82   \n",
              "4  Ate fallafel on a No Diet Club food tour, and ...            119   \n",
              "\n",
              "   avg_word_length  stop_word_count  stop_word_rate  clean_review_word_count  \\\n",
              "0         4.047244              176        0.461942                      167   \n",
              "1         4.073643              136        0.527132                       90   \n",
              "2         4.362069               29        0.500000                       24   \n",
              "3         4.512195               41        0.500000                       34   \n",
              "4         4.168067               57        0.478992                       48   \n",
              "\n",
              "   clean_review_word_rate  polarity  subjectivity  \n",
              "0                0.438320  0.290830      0.571298  \n",
              "1                0.348837  0.212434      0.515212  \n",
              "2                0.413793  0.125000      0.348148  \n",
              "3                0.414634  0.421104      0.461039  \n",
              "4                0.403361  0.196429      0.477041  "
            ],
            "text/html": [
              "\n",
              "  <div id=\"df-91680b6f-0ccd-4d5c-a022-b9e62826f64d\">\n",
              "    <div class=\"colab-df-container\">\n",
              "      <div>\n",
              "<style scoped>\n",
              "    .dataframe tbody tr th:only-of-type {\n",
              "        vertical-align: middle;\n",
              "    }\n",
              "\n",
              "    .dataframe tbody tr th {\n",
              "        vertical-align: top;\n",
              "    }\n",
              "\n",
              "    .dataframe thead th {\n",
              "        text-align: right;\n",
              "    }\n",
              "</style>\n",
              "<table border=\"1\" class=\"dataframe\">\n",
              "  <thead>\n",
              "    <tr style=\"text-align: right;\">\n",
              "      <th></th>\n",
              "      <th>reviews</th>\n",
              "      <th>review_length</th>\n",
              "      <th>avg_word_length</th>\n",
              "      <th>stop_word_count</th>\n",
              "      <th>stop_word_rate</th>\n",
              "      <th>clean_review_word_count</th>\n",
              "      <th>clean_review_word_rate</th>\n",
              "      <th>polarity</th>\n",
              "      <th>subjectivity</th>\n",
              "    </tr>\n",
              "  </thead>\n",
              "  <tbody>\n",
              "    <tr>\n",
              "      <th>0</th>\n",
              "      <td>What!? I haven't left a review about this plac...</td>\n",
              "      <td>381</td>\n",
              "      <td>4.047244</td>\n",
              "      <td>176</td>\n",
              "      <td>0.461942</td>\n",
              "      <td>167</td>\n",
              "      <td>0.438320</td>\n",
              "      <td>0.290830</td>\n",
              "      <td>0.571298</td>\n",
              "    </tr>\n",
              "    <tr>\n",
              "      <th>1</th>\n",
              "      <td>L'as du Falafel is located right by our apartm...</td>\n",
              "      <td>258</td>\n",
              "      <td>4.073643</td>\n",
              "      <td>136</td>\n",
              "      <td>0.527132</td>\n",
              "      <td>90</td>\n",
              "      <td>0.348837</td>\n",
              "      <td>0.212434</td>\n",
              "      <td>0.515212</td>\n",
              "    </tr>\n",
              "    <tr>\n",
              "      <th>2</th>\n",
              "      <td>You will always find a long line leading up to...</td>\n",
              "      <td>58</td>\n",
              "      <td>4.362069</td>\n",
              "      <td>29</td>\n",
              "      <td>0.500000</td>\n",
              "      <td>24</td>\n",
              "      <td>0.413793</td>\n",
              "      <td>0.125000</td>\n",
              "      <td>0.348148</td>\n",
              "    </tr>\n",
              "    <tr>\n",
              "      <th>3</th>\n",
              "      <td>I love this place!I never really paid attentio...</td>\n",
              "      <td>82</td>\n",
              "      <td>4.512195</td>\n",
              "      <td>41</td>\n",
              "      <td>0.500000</td>\n",
              "      <td>34</td>\n",
              "      <td>0.414634</td>\n",
              "      <td>0.421104</td>\n",
              "      <td>0.461039</td>\n",
              "    </tr>\n",
              "    <tr>\n",
              "      <th>4</th>\n",
              "      <td>Ate fallafel on a No Diet Club food tour, and ...</td>\n",
              "      <td>119</td>\n",
              "      <td>4.168067</td>\n",
              "      <td>57</td>\n",
              "      <td>0.478992</td>\n",
              "      <td>48</td>\n",
              "      <td>0.403361</td>\n",
              "      <td>0.196429</td>\n",
              "      <td>0.477041</td>\n",
              "    </tr>\n",
              "  </tbody>\n",
              "</table>\n",
              "</div>\n",
              "      <button class=\"colab-df-convert\" onclick=\"convertToInteractive('df-91680b6f-0ccd-4d5c-a022-b9e62826f64d')\"\n",
              "              title=\"Convert this dataframe to an interactive table.\"\n",
              "              style=\"display:none;\">\n",
              "        \n",
              "  <svg xmlns=\"http://www.w3.org/2000/svg\" height=\"24px\"viewBox=\"0 0 24 24\"\n",
              "       width=\"24px\">\n",
              "    <path d=\"M0 0h24v24H0V0z\" fill=\"none\"/>\n",
              "    <path d=\"M18.56 5.44l.94 2.06.94-2.06 2.06-.94-2.06-.94-.94-2.06-.94 2.06-2.06.94zm-11 1L8.5 8.5l.94-2.06 2.06-.94-2.06-.94L8.5 2.5l-.94 2.06-2.06.94zm10 10l.94 2.06.94-2.06 2.06-.94-2.06-.94-.94-2.06-.94 2.06-2.06.94z\"/><path d=\"M17.41 7.96l-1.37-1.37c-.4-.4-.92-.59-1.43-.59-.52 0-1.04.2-1.43.59L10.3 9.45l-7.72 7.72c-.78.78-.78 2.05 0 2.83L4 21.41c.39.39.9.59 1.41.59.51 0 1.02-.2 1.41-.59l7.78-7.78 2.81-2.81c.8-.78.8-2.07 0-2.86zM5.41 20L4 18.59l7.72-7.72 1.47 1.35L5.41 20z\"/>\n",
              "  </svg>\n",
              "      </button>\n",
              "      \n",
              "  <style>\n",
              "    .colab-df-container {\n",
              "      display:flex;\n",
              "      flex-wrap:wrap;\n",
              "      gap: 12px;\n",
              "    }\n",
              "\n",
              "    .colab-df-convert {\n",
              "      background-color: #E8F0FE;\n",
              "      border: none;\n",
              "      border-radius: 50%;\n",
              "      cursor: pointer;\n",
              "      display: none;\n",
              "      fill: #1967D2;\n",
              "      height: 32px;\n",
              "      padding: 0 0 0 0;\n",
              "      width: 32px;\n",
              "    }\n",
              "\n",
              "    .colab-df-convert:hover {\n",
              "      background-color: #E2EBFA;\n",
              "      box-shadow: 0px 1px 2px rgba(60, 64, 67, 0.3), 0px 1px 3px 1px rgba(60, 64, 67, 0.15);\n",
              "      fill: #174EA6;\n",
              "    }\n",
              "\n",
              "    [theme=dark] .colab-df-convert {\n",
              "      background-color: #3B4455;\n",
              "      fill: #D2E3FC;\n",
              "    }\n",
              "\n",
              "    [theme=dark] .colab-df-convert:hover {\n",
              "      background-color: #434B5C;\n",
              "      box-shadow: 0px 1px 3px 1px rgba(0, 0, 0, 0.15);\n",
              "      filter: drop-shadow(0px 1px 2px rgba(0, 0, 0, 0.3));\n",
              "      fill: #FFFFFF;\n",
              "    }\n",
              "  </style>\n",
              "\n",
              "      <script>\n",
              "        const buttonEl =\n",
              "          document.querySelector('#df-91680b6f-0ccd-4d5c-a022-b9e62826f64d button.colab-df-convert');\n",
              "        buttonEl.style.display =\n",
              "          google.colab.kernel.accessAllowed ? 'block' : 'none';\n",
              "\n",
              "        async function convertToInteractive(key) {\n",
              "          const element = document.querySelector('#df-91680b6f-0ccd-4d5c-a022-b9e62826f64d');\n",
              "          const dataTable =\n",
              "            await google.colab.kernel.invokeFunction('convertToInteractive',\n",
              "                                                     [key], {});\n",
              "          if (!dataTable) return;\n",
              "\n",
              "          const docLinkHtml = 'Like what you see? Visit the ' +\n",
              "            '<a target=\"_blank\" href=https://colab.research.google.com/notebooks/data_table.ipynb>data table notebook</a>'\n",
              "            + ' to learn more about interactive tables.';\n",
              "          element.innerHTML = '';\n",
              "          dataTable['output_type'] = 'display_data';\n",
              "          await google.colab.output.renderOutput(dataTable, element);\n",
              "          const docLink = document.createElement('div');\n",
              "          docLink.innerHTML = docLinkHtml;\n",
              "          element.appendChild(docLink);\n",
              "        }\n",
              "      </script>\n",
              "    </div>\n",
              "  </div>\n",
              "  "
            ]
          },
          "metadata": {},
          "execution_count": 49
        }
      ],
      "source": [
        "data_sentiment_analysis.head()"
      ]
    },
    {
      "cell_type": "code",
      "execution_count": null,
      "id": "32a6fe61",
      "metadata": {
        "id": "32a6fe61"
      },
      "outputs": [],
      "source": [
        "negative_reviews = data_sentiment_analysis[data_sentiment_analysis['polarity'] < 0]"
      ]
    },
    {
      "cell_type": "code",
      "execution_count": null,
      "id": "ab2cc9ba",
      "metadata": {
        "id": "ab2cc9ba"
      },
      "outputs": [],
      "source": [
        "positive_reviews = data_sentiment_analysis[data_sentiment_analysis['polarity'] > 0]"
      ]
    },
    {
      "cell_type": "code",
      "execution_count": null,
      "id": "b3c905a3",
      "metadata": {
        "id": "b3c905a3"
      },
      "outputs": [],
      "source": []
    }
  ],
  "metadata": {
    "kernelspec": {
      "display_name": "Python 3 (ipykernel)",
      "language": "python",
      "name": "python3"
    },
    "language_info": {
      "codemirror_mode": {
        "name": "ipython",
        "version": 3
      },
      "file_extension": ".py",
      "mimetype": "text/x-python",
      "name": "python",
      "nbconvert_exporter": "python",
      "pygments_lexer": "ipython3",
      "version": "3.9.12"
    },
    "varInspector": {
      "cols": {
        "lenName": 16,
        "lenType": 16,
        "lenVar": 40
      },
      "kernels_config": {
        "python": {
          "delete_cmd_postfix": "",
          "delete_cmd_prefix": "del ",
          "library": "var_list.py",
          "varRefreshCmd": "print(var_dic_list())"
        },
        "r": {
          "delete_cmd_postfix": ") ",
          "delete_cmd_prefix": "rm(",
          "library": "var_list.r",
          "varRefreshCmd": "cat(var_dic_list()) "
        }
      },
      "types_to_exclude": [
        "module",
        "function",
        "builtin_function_or_method",
        "instance",
        "_Feature"
      ],
      "window_display": false
    },
    "colab": {
      "provenance": [],
      "include_colab_link": true
    }
  },
  "nbformat": 4,
  "nbformat_minor": 5
}